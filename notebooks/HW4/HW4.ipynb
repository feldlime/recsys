{
 "cells": [
  {
   "cell_type": "code",
   "execution_count": 140,
   "id": "f25ae238",
   "metadata": {},
   "outputs": [],
   "source": [
    "import pandas as pd\n",
    "import numpy as np\n",
    "import requests\n",
    "from tqdm.auto import tqdm\n",
    "import warnings\n",
    "warnings.filterwarnings(\"ignore\")\n",
    "\n",
    "from rectools import Columns\n",
    "from rectools.dataset import Dataset\n",
    "from rectools.metrics import  MAP, calc_metrics\n",
    "from rectools.models import ImplicitALSWrapperModel, LightFMWrapperModel\n",
    "\n",
    "from implicit.als import AlternatingLeastSquares\n",
    "from lightfm import LightFM\n",
    "from implicit.lmf import LogisticMatrixFactorization\n",
    "import joblib"
   ]
  },
  {
   "cell_type": "markdown",
   "id": "7fd4c282",
   "metadata": {},
   "source": [
    "# Load Data"
   ]
  },
  {
   "cell_type": "code",
   "execution_count": 5,
   "id": "65b01522",
   "metadata": {},
   "outputs": [
    {
     "data": {
      "application/vnd.jupyter.widget-view+json": {
       "model_id": "d44afaddbf1d4ff39194af4fb932dd51",
       "version_major": 2,
       "version_minor": 0
      },
      "text/plain": [
       "kion dataset download:   0%|          | 0.00/78.8M [00:00<?, ?iB/s]"
      ]
     },
     "metadata": {},
     "output_type": "display_data"
    },
    {
     "name": "stdout",
     "output_type": "stream",
     "text": [
      "Archive:  kion_train.zip\n",
      "   creating: kion_train/\n",
      "  inflating: kion_train/interactions.csv  \n",
      "  inflating: __MACOSX/kion_train/._interactions.csv  \n",
      "  inflating: kion_train/users.csv    \n",
      "  inflating: __MACOSX/kion_train/._users.csv  \n",
      "  inflating: kion_train/items.csv    \n",
      "  inflating: __MACOSX/kion_train/._items.csv  \n"
     ]
    }
   ],
   "source": [
    "url = \"https://storage.yandexcloud.net/itmo-recsys-public-data/kion_train.zip\"\n",
    "\n",
    "req = requests.get(url, stream=True)\n",
    "\n",
    "with open('kion_train.zip', \"wb\") as fd:\n",
    "    total_size_in_bytes = int(req.headers.get('Content-Length', 0))\n",
    "    progress_bar = tqdm(desc='kion dataset download', total=total_size_in_bytes, unit='iB', unit_scale=True)\n",
    "    for chunk in req.iter_content(chunk_size=2 ** 20):\n",
    "        progress_bar.update(len(chunk))\n",
    "        fd.write(chunk)\n",
    "!unzip kion_train.zip"
   ]
  },
  {
   "cell_type": "code",
   "execution_count": 80,
   "id": "ab81013a",
   "metadata": {},
   "outputs": [],
   "source": [
    "interactions = pd.read_csv('kion_train/interactions.csv')\n",
    "users = pd.read_csv('kion_train/users.csv')\n",
    "items = pd.read_csv('kion_train/items.csv')"
   ]
  },
  {
   "cell_type": "code",
   "execution_count": 81,
   "id": "1f537fd9",
   "metadata": {},
   "outputs": [
    {
     "name": "stdout",
     "output_type": "stream",
     "text": [
      "<class 'pandas.core.frame.DataFrame'>\n",
      "RangeIndex: 5476251 entries, 0 to 5476250\n",
      "Data columns (total 5 columns):\n",
      " #   Column         Dtype  \n",
      "---  ------         -----  \n",
      " 0   user_id        int64  \n",
      " 1   item_id        int64  \n",
      " 2   last_watch_dt  object \n",
      " 3   total_dur      int64  \n",
      " 4   watched_pct    float64\n",
      "dtypes: float64(1), int64(3), object(1)\n",
      "memory usage: 208.9+ MB\n"
     ]
    }
   ],
   "source": [
    "interactions.info()"
   ]
  },
  {
   "cell_type": "code",
   "execution_count": 82,
   "id": "7bacc213",
   "metadata": {},
   "outputs": [],
   "source": [
    "interactions.rename(columns={'user_id': Columns.User,\n",
    "                             'item_id': Columns.Item,\n",
    "                             'last_watch_dt': Columns.Datetime}, inplace=True)\n",
    "interactions['datetime'] = pd.to_datetime(interactions['datetime'])"
   ]
  },
  {
   "cell_type": "code",
   "execution_count": 83,
   "id": "92462a2c",
   "metadata": {},
   "outputs": [
    {
     "name": "stdout",
     "output_type": "stream",
     "text": [
      "<class 'pandas.core.frame.DataFrame'>\n",
      "RangeIndex: 5476251 entries, 0 to 5476250\n",
      "Data columns (total 5 columns):\n",
      " #   Column       Dtype         \n",
      "---  ------       -----         \n",
      " 0   user_id      int64         \n",
      " 1   item_id      int64         \n",
      " 2   datetime     datetime64[ns]\n",
      " 3   total_dur    int64         \n",
      " 4   watched_pct  float64       \n",
      "dtypes: datetime64[ns](1), float64(1), int64(3)\n",
      "memory usage: 208.9 MB\n"
     ]
    }
   ],
   "source": [
    "interactions.info()"
   ]
  },
  {
   "cell_type": "markdown",
   "id": "c5bcfb93",
   "metadata": {},
   "source": [
    "# Transform data"
   ]
  },
  {
   "cell_type": "markdown",
   "id": "9dd1cc81",
   "metadata": {},
   "source": [
    "## Users"
   ]
  },
  {
   "cell_type": "code",
   "execution_count": 84,
   "id": "e73c4d01",
   "metadata": {},
   "outputs": [
    {
     "data": {
      "text/html": [
       "<div>\n",
       "<style scoped>\n",
       "    .dataframe tbody tr th:only-of-type {\n",
       "        vertical-align: middle;\n",
       "    }\n",
       "\n",
       "    .dataframe tbody tr th {\n",
       "        vertical-align: top;\n",
       "    }\n",
       "\n",
       "    .dataframe thead th {\n",
       "        text-align: right;\n",
       "    }\n",
       "</style>\n",
       "<table border=\"1\" class=\"dataframe\">\n",
       "  <thead>\n",
       "    <tr style=\"text-align: right;\">\n",
       "      <th></th>\n",
       "      <th>user_id</th>\n",
       "      <th>age</th>\n",
       "      <th>income</th>\n",
       "      <th>sex</th>\n",
       "      <th>kids_flg</th>\n",
       "    </tr>\n",
       "  </thead>\n",
       "  <tbody>\n",
       "    <tr>\n",
       "      <th>0</th>\n",
       "      <td>973171</td>\n",
       "      <td>age_25_34</td>\n",
       "      <td>income_60_90</td>\n",
       "      <td>М</td>\n",
       "      <td>1</td>\n",
       "    </tr>\n",
       "    <tr>\n",
       "      <th>1</th>\n",
       "      <td>962099</td>\n",
       "      <td>age_18_24</td>\n",
       "      <td>income_20_40</td>\n",
       "      <td>М</td>\n",
       "      <td>0</td>\n",
       "    </tr>\n",
       "    <tr>\n",
       "      <th>2</th>\n",
       "      <td>1047345</td>\n",
       "      <td>age_45_54</td>\n",
       "      <td>income_40_60</td>\n",
       "      <td>Ж</td>\n",
       "      <td>0</td>\n",
       "    </tr>\n",
       "  </tbody>\n",
       "</table>\n",
       "</div>"
      ],
      "text/plain": [
       "   user_id        age        income sex  kids_flg\n",
       "0   973171  age_25_34  income_60_90   М         1\n",
       "1   962099  age_18_24  income_20_40   М         0\n",
       "2  1047345  age_45_54  income_40_60   Ж         0"
      ]
     },
     "execution_count": 84,
     "metadata": {},
     "output_type": "execute_result"
    }
   ],
   "source": [
    "users[:3]"
   ]
  },
  {
   "cell_type": "code",
   "execution_count": 85,
   "id": "8e8b16cd",
   "metadata": {},
   "outputs": [
    {
     "name": "stdout",
     "output_type": "stream",
     "text": [
      "<class 'pandas.core.frame.DataFrame'>\n",
      "RangeIndex: 840197 entries, 0 to 840196\n",
      "Data columns (total 5 columns):\n",
      " #   Column    Non-Null Count   Dtype \n",
      "---  ------    --------------   ----- \n",
      " 0   user_id   840197 non-null  int64 \n",
      " 1   age       826102 non-null  object\n",
      " 2   income    825421 non-null  object\n",
      " 3   sex       826366 non-null  object\n",
      " 4   kids_flg  840197 non-null  int64 \n",
      "dtypes: int64(2), object(3)\n",
      "memory usage: 32.1+ MB\n"
     ]
    }
   ],
   "source": [
    "users.info()"
   ]
  },
  {
   "cell_type": "code",
   "execution_count": 86,
   "id": "f8f76909",
   "metadata": {},
   "outputs": [],
   "source": [
    "# replace sex to 0 or 1\n",
    "users['sex'] = users['sex'].map({'Ж': 1, 'М': 0})"
   ]
  },
  {
   "cell_type": "code",
   "execution_count": 87,
   "id": "f32a4157",
   "metadata": {},
   "outputs": [],
   "source": [
    "age_category = pd.CategoricalDtype(categories=['age_18_24',\n",
    "                                               'age_25_34',\n",
    "                                               'age_35_44',\n",
    "                                               'age_45_54',\n",
    "                                               'age_55_64',\n",
    "                                               'age_65_inf'], ordered=True)\n",
    "users['age'] = users['age'].astype(age_category)"
   ]
  },
  {
   "cell_type": "code",
   "execution_count": 88,
   "id": "a92c4a27",
   "metadata": {},
   "outputs": [],
   "source": [
    "income_category = pd.CategoricalDtype(categories=['income_0_20',\n",
    "                                                  'income_20_40',\n",
    "                                                  'income_40_60',\n",
    "                                                  'income_60_90',\n",
    "                                                  'income_90_150',\n",
    "                                                  'income_150_inf'], ordered=True)\n",
    "users['income'] = users['income'].astype(income_category)"
   ]
  },
  {
   "cell_type": "markdown",
   "id": "61774337",
   "metadata": {},
   "source": [
    "## Items"
   ]
  },
  {
   "cell_type": "code",
   "execution_count": 89,
   "id": "16c8bb4e",
   "metadata": {},
   "outputs": [
    {
     "data": {
      "text/html": [
       "<div>\n",
       "<style scoped>\n",
       "    .dataframe tbody tr th:only-of-type {\n",
       "        vertical-align: middle;\n",
       "    }\n",
       "\n",
       "    .dataframe tbody tr th {\n",
       "        vertical-align: top;\n",
       "    }\n",
       "\n",
       "    .dataframe thead th {\n",
       "        text-align: right;\n",
       "    }\n",
       "</style>\n",
       "<table border=\"1\" class=\"dataframe\">\n",
       "  <thead>\n",
       "    <tr style=\"text-align: right;\">\n",
       "      <th></th>\n",
       "      <th>item_id</th>\n",
       "      <th>content_type</th>\n",
       "      <th>title</th>\n",
       "      <th>title_orig</th>\n",
       "      <th>release_year</th>\n",
       "      <th>genres</th>\n",
       "      <th>countries</th>\n",
       "      <th>for_kids</th>\n",
       "      <th>age_rating</th>\n",
       "      <th>studios</th>\n",
       "      <th>directors</th>\n",
       "      <th>actors</th>\n",
       "      <th>description</th>\n",
       "      <th>keywords</th>\n",
       "    </tr>\n",
       "  </thead>\n",
       "  <tbody>\n",
       "    <tr>\n",
       "      <th>0</th>\n",
       "      <td>10711</td>\n",
       "      <td>film</td>\n",
       "      <td>Поговори с ней</td>\n",
       "      <td>Hable con ella</td>\n",
       "      <td>2002.0</td>\n",
       "      <td>драмы, зарубежные, детективы, мелодрамы</td>\n",
       "      <td>Испания</td>\n",
       "      <td>NaN</td>\n",
       "      <td>16.0</td>\n",
       "      <td>NaN</td>\n",
       "      <td>Педро Альмодовар</td>\n",
       "      <td>Адольфо Фернандес, Ана Фернандес, Дарио Гранди...</td>\n",
       "      <td>Мелодрама легендарного Педро Альмодовара «Пого...</td>\n",
       "      <td>Поговори, ней, 2002, Испания, друзья, любовь, ...</td>\n",
       "    </tr>\n",
       "    <tr>\n",
       "      <th>1</th>\n",
       "      <td>2508</td>\n",
       "      <td>film</td>\n",
       "      <td>Голые перцы</td>\n",
       "      <td>Search Party</td>\n",
       "      <td>2014.0</td>\n",
       "      <td>зарубежные, приключения, комедии</td>\n",
       "      <td>США</td>\n",
       "      <td>NaN</td>\n",
       "      <td>16.0</td>\n",
       "      <td>NaN</td>\n",
       "      <td>Скот Армстронг</td>\n",
       "      <td>Адам Палли, Брайан Хаски, Дж.Б. Смув, Джейсон ...</td>\n",
       "      <td>Уморительная современная комедия на популярную...</td>\n",
       "      <td>Голые, перцы, 2014, США, друзья, свадьбы, прео...</td>\n",
       "    </tr>\n",
       "    <tr>\n",
       "      <th>2</th>\n",
       "      <td>10716</td>\n",
       "      <td>film</td>\n",
       "      <td>Тактическая сила</td>\n",
       "      <td>Tactical Force</td>\n",
       "      <td>2011.0</td>\n",
       "      <td>криминал, зарубежные, триллеры, боевики, комедии</td>\n",
       "      <td>Канада</td>\n",
       "      <td>NaN</td>\n",
       "      <td>16.0</td>\n",
       "      <td>NaN</td>\n",
       "      <td>Адам П. Калтраро</td>\n",
       "      <td>Адриан Холмс, Даррен Шалави, Джерри Вассерман,...</td>\n",
       "      <td>Профессиональный рестлер Стив Остин («Все или ...</td>\n",
       "      <td>Тактическая, сила, 2011, Канада, бандиты, ганг...</td>\n",
       "    </tr>\n",
       "  </tbody>\n",
       "</table>\n",
       "</div>"
      ],
      "text/plain": [
       "   item_id  ...                                           keywords\n",
       "0    10711  ...  Поговори, ней, 2002, Испания, друзья, любовь, ...\n",
       "1     2508  ...  Голые, перцы, 2014, США, друзья, свадьбы, прео...\n",
       "2    10716  ...  Тактическая, сила, 2011, Канада, бандиты, ганг...\n",
       "\n",
       "[3 rows x 14 columns]"
      ]
     },
     "execution_count": 89,
     "metadata": {},
     "output_type": "execute_result"
    }
   ],
   "source": [
    "items[:3]"
   ]
  },
  {
   "cell_type": "code",
   "execution_count": 90,
   "id": "3adb638e",
   "metadata": {},
   "outputs": [
    {
     "name": "stdout",
     "output_type": "stream",
     "text": [
      "<class 'pandas.core.frame.DataFrame'>\n",
      "RangeIndex: 15963 entries, 0 to 15962\n",
      "Data columns (total 14 columns):\n",
      " #   Column        Non-Null Count  Dtype  \n",
      "---  ------        --------------  -----  \n",
      " 0   item_id       15963 non-null  int64  \n",
      " 1   content_type  15963 non-null  object \n",
      " 2   title         15963 non-null  object \n",
      " 3   title_orig    11218 non-null  object \n",
      " 4   release_year  15865 non-null  float64\n",
      " 5   genres        15963 non-null  object \n",
      " 6   countries     15926 non-null  object \n",
      " 7   for_kids      566 non-null    float64\n",
      " 8   age_rating    15961 non-null  float64\n",
      " 9   studios       1065 non-null   object \n",
      " 10  directors     14454 non-null  object \n",
      " 11  actors        13344 non-null  object \n",
      " 12  description   15961 non-null  object \n",
      " 13  keywords      15540 non-null  object \n",
      "dtypes: float64(3), int64(1), object(10)\n",
      "memory usage: 1.7+ MB\n"
     ]
    }
   ],
   "source": [
    "items.info()"
   ]
  },
  {
   "cell_type": "code",
   "execution_count": 91,
   "id": "cd5f43aa",
   "metadata": {},
   "outputs": [],
   "source": [
    "YEAR_FROM = 1990\n",
    "STEP_SIZE = 5\n",
    "bins = [year for year in range(YEAR_FROM, int(\n",
    "    items['release_year'].max()) + STEP_SIZE, STEP_SIZE)]\n",
    "bins = [int(items['release_year'].min())] + bins\n",
    "items['year_bin'] = pd.cut(items['release_year'],\n",
    "                           bins=bins,\n",
    "                           include_lowest=True)"
   ]
  },
  {
   "cell_type": "markdown",
   "id": "988071a5",
   "metadata": {},
   "source": [
    "# Train/test split"
   ]
  },
  {
   "cell_type": "code",
   "execution_count": 92,
   "id": "dfc40ae0",
   "metadata": {},
   "outputs": [],
   "source": [
    "interactions[Columns.Weight] = np.where(interactions['watched_pct'] > 10, 3, 1)"
   ]
  },
  {
   "cell_type": "code",
   "execution_count": 93,
   "id": "278384f3",
   "metadata": {},
   "outputs": [],
   "source": [
    "max_date = interactions[Columns.Datetime].max()"
   ]
  },
  {
   "cell_type": "code",
   "execution_count": 94,
   "id": "055b0d22",
   "metadata": {},
   "outputs": [],
   "source": [
    "train = interactions[interactions[Columns.Datetime] < max_date - pd.Timedelta(days=7)].copy()\n",
    "test = interactions[interactions[Columns.Datetime] >= max_date - pd.Timedelta(days=7)].copy()"
   ]
  },
  {
   "cell_type": "code",
   "execution_count": 96,
   "id": "75576bc5",
   "metadata": {},
   "outputs": [],
   "source": [
    "train.drop(train.query(\"total_dur < 300\").index, inplace=True)"
   ]
  },
  {
   "cell_type": "code",
   "execution_count": 98,
   "id": "64521450",
   "metadata": {},
   "outputs": [],
   "source": [
    "cold_users = set(test[Columns.User]) - set(train[Columns.User])"
   ]
  },
  {
   "cell_type": "code",
   "execution_count": 99,
   "id": "3d0cbc52",
   "metadata": {},
   "outputs": [],
   "source": [
    "test.drop(test[test[Columns.User].isin(cold_users)].index, inplace=True)"
   ]
  },
  {
   "cell_type": "markdown",
   "id": "b69e55d4",
   "metadata": {},
   "source": [
    "# Baseline models"
   ]
  },
  {
   "cell_type": "code",
   "execution_count": 106,
   "id": "4583d87f",
   "metadata": {},
   "outputs": [],
   "source": [
    "K_RECOS = 10\n",
    "RANDOM_STATE = 42\n",
    "NUM_THREADS = 2\n",
    "N_FACTORS = (4, 16, 32)"
   ]
  },
  {
   "cell_type": "code",
   "execution_count": 107,
   "id": "77257f44",
   "metadata": {},
   "outputs": [],
   "source": [
    "dataset = Dataset.construct(interactions_df=train)"
   ]
  },
  {
   "cell_type": "code",
   "execution_count": 108,
   "id": "b3e8a440",
   "metadata": {},
   "outputs": [],
   "source": [
    "models = {}"
   ]
  },
  {
   "cell_type": "code",
   "execution_count": 109,
   "id": "20aca9d5",
   "metadata": {},
   "outputs": [],
   "source": [
    "implicit_models = {'ALS': AlternatingLeastSquares}\n",
    "\n",
    "for implicit_name, implicit_model in implicit_models.items():\n",
    "    for n_factors in N_FACTORS:\n",
    "        models[f\"{implicit_name}_{n_factors}\"] = ImplicitALSWrapperModel(\n",
    "            model=implicit_model(\n",
    "                factors=n_factors,\n",
    "                random_state=RANDOM_STATE,\n",
    "                num_threads=NUM_THREADS))"
   ]
  },
  {
   "cell_type": "code",
   "execution_count": 111,
   "id": "77d0c7f4",
   "metadata": {},
   "outputs": [],
   "source": [
    "lightfm_losses = ('logistic', 'bpr', 'warp')\n",
    "\n",
    "for loss in lightfm_losses:\n",
    "    for n_factors in N_FACTORS:\n",
    "        models[f\"LightFM_{loss}_{n_factors}\"] = LightFMWrapperModel(\n",
    "            LightFM(no_components=n_factors,\n",
    "                    loss=loss,\n",
    "                    random_state=RANDOM_STATE),\n",
    "            epochs=10,\n",
    "            num_threads=NUM_THREADS)"
   ]
  },
  {
   "cell_type": "code",
   "execution_count": 115,
   "id": "b6879eb9",
   "metadata": {},
   "outputs": [],
   "source": [
    "metrics_name = {'MAP': MAP}\n",
    "\n",
    "metrics = {}\n",
    "for metric_name, metric in metrics_name.items():\n",
    "    metrics[f'{metric_name}@{K_RECOS}'] = metric(k=K_RECOS)"
   ]
  },
  {
   "cell_type": "code",
   "execution_count": 116,
   "id": "b59d0775",
   "metadata": {},
   "outputs": [
    {
     "data": {
      "text/plain": [
       "{'MAP@10': MAP(k=10, divide_by_k=False)}"
      ]
     },
     "execution_count": 116,
     "metadata": {},
     "output_type": "execute_result"
    }
   ],
   "source": [
    "metrics"
   ]
  },
  {
   "cell_type": "code",
   "execution_count": 117,
   "id": "1282bc01",
   "metadata": {},
   "outputs": [
    {
     "data": {
      "application/vnd.jupyter.widget-view+json": {
       "model_id": "f404b46491ac42269497387f7520a10b",
       "version_major": 2,
       "version_minor": 0
      },
      "text/plain": [
       "  0%|          | 0/12 [00:00<?, ?it/s]"
      ]
     },
     "metadata": {},
     "output_type": "display_data"
    }
   ],
   "source": [
    "results = []\n",
    "for model_name, model in tqdm(models.items()):\n",
    "    model_quality = {'model': model_name}\n",
    "\n",
    "    model.fit(dataset)\n",
    "    recos = model.recommend(\n",
    "        users=test[Columns.User].unique(),\n",
    "        dataset=dataset,\n",
    "        k=K_RECOS,\n",
    "        filter_viewed=True,\n",
    "    )\n",
    "    metric_values = calc_metrics(metrics, recos, test, train)\n",
    "    model_quality.update(metric_values)\n",
    "    results.append(model_quality)"
   ]
  },
  {
   "cell_type": "code",
   "execution_count": 122,
   "id": "b2affbea",
   "metadata": {},
   "outputs": [],
   "source": [
    "df_quality = pd.DataFrame(results).T\n",
    "df_quality.columns = df_quality.iloc[0]\n",
    "df_quality.drop('model', inplace=True)"
   ]
  },
  {
   "cell_type": "code",
   "execution_count": 125,
   "id": "321cb386",
   "metadata": {},
   "outputs": [
    {
     "data": {
      "text/html": [
       "<style type=\"text/css\">\n",
       "#T_41e13_row10_col0 {\n",
       "  background-color: lightgreen;\n",
       "}\n",
       "</style>\n",
       "<table id=\"T_41e13\">\n",
       "  <thead>\n",
       "    <tr>\n",
       "      <th class=\"blank level0\" >&nbsp;</th>\n",
       "      <th id=\"T_41e13_level0_col0\" class=\"col_heading level0 col0\" >MAP@10</th>\n",
       "    </tr>\n",
       "    <tr>\n",
       "      <th class=\"index_name level0\" >model</th>\n",
       "      <th class=\"blank col0\" >&nbsp;</th>\n",
       "    </tr>\n",
       "  </thead>\n",
       "  <tbody>\n",
       "    <tr>\n",
       "      <th id=\"T_41e13_level0_row0\" class=\"row_heading level0 row0\" >ALS_4</th>\n",
       "      <td id=\"T_41e13_row0_col0\" class=\"data row0 col0\" >0.055360</td>\n",
       "    </tr>\n",
       "    <tr>\n",
       "      <th id=\"T_41e13_level0_row1\" class=\"row_heading level0 row1\" >ALS_16</th>\n",
       "      <td id=\"T_41e13_row1_col0\" class=\"data row1 col0\" >0.031337</td>\n",
       "    </tr>\n",
       "    <tr>\n",
       "      <th id=\"T_41e13_level0_row2\" class=\"row_heading level0 row2\" >ALS_32</th>\n",
       "      <td id=\"T_41e13_row2_col0\" class=\"data row2 col0\" >0.028040</td>\n",
       "    </tr>\n",
       "    <tr>\n",
       "      <th id=\"T_41e13_level0_row3\" class=\"row_heading level0 row3\" >LightFM_logistic_4</th>\n",
       "      <td id=\"T_41e13_row3_col0\" class=\"data row3 col0\" >0.074705</td>\n",
       "    </tr>\n",
       "    <tr>\n",
       "      <th id=\"T_41e13_level0_row4\" class=\"row_heading level0 row4\" >LightFM_logistic_16</th>\n",
       "      <td id=\"T_41e13_row4_col0\" class=\"data row4 col0\" >0.074717</td>\n",
       "    </tr>\n",
       "    <tr>\n",
       "      <th id=\"T_41e13_level0_row5\" class=\"row_heading level0 row5\" >LightFM_logistic_32</th>\n",
       "      <td id=\"T_41e13_row5_col0\" class=\"data row5 col0\" >0.074803</td>\n",
       "    </tr>\n",
       "    <tr>\n",
       "      <th id=\"T_41e13_level0_row6\" class=\"row_heading level0 row6\" >LightFM_bpr_4</th>\n",
       "      <td id=\"T_41e13_row6_col0\" class=\"data row6 col0\" >0.036435</td>\n",
       "    </tr>\n",
       "    <tr>\n",
       "      <th id=\"T_41e13_level0_row7\" class=\"row_heading level0 row7\" >LightFM_bpr_16</th>\n",
       "      <td id=\"T_41e13_row7_col0\" class=\"data row7 col0\" >0.027962</td>\n",
       "    </tr>\n",
       "    <tr>\n",
       "      <th id=\"T_41e13_level0_row8\" class=\"row_heading level0 row8\" >LightFM_bpr_32</th>\n",
       "      <td id=\"T_41e13_row8_col0\" class=\"data row8 col0\" >0.022902</td>\n",
       "    </tr>\n",
       "    <tr>\n",
       "      <th id=\"T_41e13_level0_row9\" class=\"row_heading level0 row9\" >LightFM_warp_4</th>\n",
       "      <td id=\"T_41e13_row9_col0\" class=\"data row9 col0\" >0.077356</td>\n",
       "    </tr>\n",
       "    <tr>\n",
       "      <th id=\"T_41e13_level0_row10\" class=\"row_heading level0 row10\" >LightFM_warp_16</th>\n",
       "      <td id=\"T_41e13_row10_col0\" class=\"data row10 col0\" >0.078689</td>\n",
       "    </tr>\n",
       "    <tr>\n",
       "      <th id=\"T_41e13_level0_row11\" class=\"row_heading level0 row11\" >LightFM_warp_32</th>\n",
       "      <td id=\"T_41e13_row11_col0\" class=\"data row11 col0\" >0.077462</td>\n",
       "    </tr>\n",
       "  </tbody>\n",
       "</table>\n"
      ],
      "text/plain": [
       "<pandas.io.formats.style.Styler at 0x7f8f83c13910>"
      ]
     },
     "execution_count": 125,
     "metadata": {},
     "output_type": "execute_result"
    }
   ],
   "source": [
    "df_quality.T.style.highlight_max(color='lightgreen', axis=0)"
   ]
  },
  {
   "cell_type": "markdown",
   "id": "9e59e2bd",
   "metadata": {},
   "source": [
    "# Training best model"
   ]
  },
  {
   "cell_type": "code",
   "execution_count": 127,
   "id": "01f134d5",
   "metadata": {},
   "outputs": [],
   "source": [
    "model = models['LightFM_warp_16']"
   ]
  },
  {
   "cell_type": "code",
   "execution_count": 128,
   "id": "30d5cb77",
   "metadata": {},
   "outputs": [
    {
     "data": {
      "text/plain": [
       "<rectools.models.lightfm.LightFMWrapperModel at 0x7f90ce60c6a0>"
      ]
     },
     "execution_count": 128,
     "metadata": {},
     "output_type": "execute_result"
    }
   ],
   "source": [
    "model.fit(dataset)"
   ]
  },
  {
   "cell_type": "code",
   "execution_count": 142,
   "id": "27bf3c87",
   "metadata": {},
   "outputs": [
    {
     "name": "stdout",
     "output_type": "stream",
     "text": [
      "CPU times: user 6 µs, sys: 1e+03 ns, total: 7 µs\n",
      "Wall time: 35.3 µs\n"
     ]
    }
   ],
   "source": [
    "# предиктим на тест\n",
    "%time    \n",
    "recos = list(model.recommend(\n",
    "        users=[10010],\n",
    "        dataset=dataset,\n",
    "        k=K_RECOS,\n",
    "        filter_viewed=True)['item_id'])"
   ]
  },
  {
   "cell_type": "code",
   "execution_count": 143,
   "id": "10ee926c",
   "metadata": {},
   "outputs": [
    {
     "data": {
      "text/plain": [
       "[9728, 13865, 15297, 10772, 657, 12356, 7829, 4457, 6455, 13723]"
      ]
     },
     "execution_count": 143,
     "metadata": {},
     "output_type": "execute_result"
    }
   ],
   "source": [
    "recos"
   ]
  },
  {
   "cell_type": "code",
   "execution_count": 141,
   "id": "04471ffb",
   "metadata": {},
   "outputs": [
    {
     "data": {
      "text/plain": [
       "['/Users/dmitry/Library/CloudStorage/GoogleDrive-ceo@gangai.pro/Мой диск/Проекты/recsys/models/LightFM_warp_16.joblib']"
      ]
     },
     "execution_count": 141,
     "metadata": {},
     "output_type": "execute_result"
    }
   ],
   "source": [
    "joblib.dump(model, '/Users/dmitry/Library/CloudStorage/GoogleDrive-ceo@gangai.pro/Мой диск/Проекты/recsys/models/LightFM_warp_16.joblib')"
   ]
  },
  {
   "cell_type": "code",
   "execution_count": null,
   "id": "09593b3c",
   "metadata": {},
   "outputs": [],
   "source": []
  }
 ],
 "metadata": {
  "kernelspec": {
   "display_name": "Python 3 (ipykernel)",
   "language": "python",
   "name": "python3"
  },
  "language_info": {
   "codemirror_mode": {
    "name": "ipython",
    "version": 3
   },
   "file_extension": ".py",
   "mimetype": "text/x-python",
   "name": "python",
   "nbconvert_exporter": "python",
   "pygments_lexer": "ipython3",
   "version": "3.9.12"
  },
  "toc": {
   "base_numbering": 1,
   "nav_menu": {},
   "number_sections": true,
   "sideBar": true,
   "skip_h1_title": false,
   "title_cell": "Table of Contents",
   "title_sidebar": "Contents",
   "toc_cell": false,
   "toc_position": {},
   "toc_section_display": true,
   "toc_window_display": false
  }
 },
 "nbformat": 4,
 "nbformat_minor": 5
}
