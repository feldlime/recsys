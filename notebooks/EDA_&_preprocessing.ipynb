{
  "nbformat": 4,
  "nbformat_minor": 0,
  "metadata": {
    "colab": {
      "provenance": []
    },
    "kernelspec": {
      "name": "python3",
      "display_name": "Python 3"
    },
    "language_info": {
      "name": "python"
    }
  },
  "cells": [
    {
      "cell_type": "code",
      "execution_count": 40,
      "metadata": {
        "colab": {
          "base_uri": "https://localhost:8080/"
        },
        "id": "m4hz3bqgwmRF",
        "outputId": "46250925-94ea-4190-8033-d58d6e60b8a4"
      },
      "outputs": [
        {
          "output_type": "stream",
          "name": "stdout",
          "text": [
            "Drive already mounted at /content/drive; to attempt to forcibly remount, call drive.mount(\"/content/drive\", force_remount=True).\n"
          ]
        }
      ],
      "source": [
        "import numpy as np\n",
        "import pandas as pd\n",
        "import pyarrow.feather as feather\n",
        "from google.colab import drive\n",
        "drive.mount('/content/drive')"
      ]
    },
    {
      "cell_type": "markdown",
      "source": [
        "# Load data"
      ],
      "metadata": {
        "id": "YRCwh7p5x3zT"
      }
    },
    {
      "cell_type": "code",
      "source": [
        "users = pd.read_csv('/content/drive/MyDrive/Проекты/recsys/data/users.csv')\n",
        "items = pd.read_csv('/content/drive/MyDrive/Проекты/recsys/data/items.csv')\n",
        "interactions = pd.read_csv(\n",
        "    '/content/drive/MyDrive/Проекты/recsys/data/interactions.csv', parse_dates=True)"
      ],
      "metadata": {
        "id": "KFiqHjRGxJSo"
      },
      "execution_count": 41,
      "outputs": []
    },
    {
      "cell_type": "markdown",
      "source": [
        "# Preprocessing\n"
      ],
      "metadata": {
        "id": "SvgxKG6xx7hm"
      }
    },
    {
      "cell_type": "markdown",
      "source": [
        "## Users"
      ],
      "metadata": {
        "id": "aFaRY9uByNDU"
      }
    },
    {
      "cell_type": "code",
      "source": [
        "users['age'] = users['age'].fillna('age_unknown')\n",
        "users['age'] = users['age'].astype('category')"
      ],
      "metadata": {
        "id": "_0dj-bnDxfcW"
      },
      "execution_count": 42,
      "outputs": []
    },
    {
      "cell_type": "code",
      "source": [
        "users['income'] = users['income'].fillna('income_unknown')\n",
        "users['income'] = users['income'].astype('category')"
      ],
      "metadata": {
        "id": "zaE7Y5AZycm-"
      },
      "execution_count": 43,
      "outputs": []
    },
    {
      "cell_type": "code",
      "source": [
        "users['sex'] = users['sex'].fillna('sex_unknown')\n",
        "users.loc[users.sex == 'М', 'sex'] = 'M'\n",
        "users.loc[users.sex == 'Ж', 'sex'] = 'F'\n",
        "users['sex'] = users['sex'].astype('category')"
      ],
      "metadata": {
        "id": "3b9CPmKKyoz4"
      },
      "execution_count": 44,
      "outputs": []
    },
    {
      "cell_type": "code",
      "source": [
        "users['kids_flg'] = users['kids_flg'].astype('bool')\n",
        "users.duplicated(subset=['user_id'], keep=False).sum()"
      ],
      "metadata": {
        "colab": {
          "base_uri": "https://localhost:8080/"
        },
        "id": "MBhpyKJ6y4n6",
        "outputId": "2c850cf4-73a3-474c-9ba8-32f6ce46c197"
      },
      "execution_count": 45,
      "outputs": [
        {
          "output_type": "execute_result",
          "data": {
            "text/plain": [
              "0"
            ]
          },
          "metadata": {},
          "execution_count": 45
        }
      ]
    },
    {
      "cell_type": "code",
      "source": [
        "users.info(verbose=True, null_counts=True)"
      ],
      "metadata": {
        "colab": {
          "base_uri": "https://localhost:8080/"
        },
        "id": "edC7dq_1zKO6",
        "outputId": "24ead3c7-42bb-40a3-cecb-779dd31dc8f3"
      },
      "execution_count": 46,
      "outputs": [
        {
          "output_type": "stream",
          "name": "stdout",
          "text": [
            "<class 'pandas.core.frame.DataFrame'>\n",
            "RangeIndex: 840197 entries, 0 to 840196\n",
            "Data columns (total 5 columns):\n",
            " #   Column    Non-Null Count   Dtype   \n",
            "---  ------    --------------   -----   \n",
            " 0   user_id   840197 non-null  int64   \n",
            " 1   age       840197 non-null  category\n",
            " 2   income    840197 non-null  category\n",
            " 3   sex       840197 non-null  category\n",
            " 4   kids_flg  840197 non-null  bool    \n",
            "dtypes: bool(1), category(3), int64(1)\n",
            "memory usage: 9.6 MB\n"
          ]
        },
        {
          "output_type": "stream",
          "name": "stderr",
          "text": [
            "/usr/local/lib/python3.7/dist-packages/ipykernel_launcher.py:1: FutureWarning: null_counts is deprecated. Use show_counts instead\n",
            "  \"\"\"Entry point for launching an IPython kernel.\n"
          ]
        }
      ]
    },
    {
      "cell_type": "markdown",
      "source": [
        "## Items"
      ],
      "metadata": {
        "id": "NzgAjYx-zQqJ"
      }
    },
    {
      "cell_type": "code",
      "source": [
        "items['content_type'] = items['content_type'].astype('category')"
      ],
      "metadata": {
        "id": "zIZDBlnNzOZu"
      },
      "execution_count": 47,
      "outputs": []
    },
    {
      "cell_type": "code",
      "source": [
        "items.duplicated(subset=['title'], keep=False).sum()"
      ],
      "metadata": {
        "colab": {
          "base_uri": "https://localhost:8080/"
        },
        "id": "DTAmHQXBzbPH",
        "outputId": "43d8912a-2fbc-44dc-a499-ffdaaf1ced41"
      },
      "execution_count": 48,
      "outputs": [
        {
          "output_type": "execute_result",
          "data": {
            "text/plain": [
              "1266"
            ]
          },
          "metadata": {},
          "execution_count": 48
        }
      ]
    },
    {
      "cell_type": "code",
      "source": [
        "items['title'] = items['title'].str.lower()"
      ],
      "metadata": {
        "id": "20O0onqQzj0R"
      },
      "execution_count": 49,
      "outputs": []
    },
    {
      "cell_type": "code",
      "source": [
        "items['title_orig'] = items['title_orig'].fillna('None') "
      ],
      "metadata": {
        "id": "oY0_ZemRznfn"
      },
      "execution_count": 50,
      "outputs": []
    },
    {
      "cell_type": "code",
      "source": [
        "items.loc[items['release_year'].isna(), 'release_year'] = 2020.\n",
        "items.loc[items['release_year'] < 1920, 'release_year_cat'] = 'inf_1920'\n",
        "items.loc[items['release_year'] >= 2020, 'release_year_cat'] = '2020_inf'\n",
        "\n",
        "for i in range (1920, 2020, 10):\n",
        "    items.loc[(items['release_year'] >= i) & (items['release_year'] < i+10),\n",
        "              'release_year_cat'] = f'{i}-{i+10}'\n",
        "\n",
        "items = items.drop(columns=['release_year'])\n",
        "items['release_year_cat'] = items['release_year_cat'].astype('category')"
      ],
      "metadata": {
        "id": "ZqcaAot8zuZs"
      },
      "execution_count": 51,
      "outputs": []
    },
    {
      "cell_type": "code",
      "source": [
        "items['genres'] = items['genres'].astype('category')"
      ],
      "metadata": {
        "id": "YS2Sjd4gz5I0"
      },
      "execution_count": 52,
      "outputs": []
    },
    {
      "cell_type": "code",
      "source": [
        "items.loc[items.countries.isna(), 'countries'] = 'Россия'\n",
        "items['countries'] = items['countries'].str.lower()\n",
        "items['countries'] = items['countries'].apply(lambda x: ', '.join(sorted(list(set(x.split(', '))))))\n",
        "items['countries'] = items['countries'].astype('category')\n"
      ],
      "metadata": {
        "id": "SNq-neRM0aFZ"
      },
      "execution_count": 53,
      "outputs": []
    },
    {
      "cell_type": "code",
      "source": [
        "items['for_kids'] = items['for_kids'].fillna(0)\n",
        "items['for_kids'] = items['for_kids'].astype('bool')"
      ],
      "metadata": {
        "id": "wuxwNPA80uW5"
      },
      "execution_count": 54,
      "outputs": []
    },
    {
      "cell_type": "code",
      "source": [
        "items.loc[items.age_rating.isna(), 'age_rating'] = 0\n",
        "items['age_rating'] = items['age_rating'].astype('category')"
      ],
      "metadata": {
        "id": "9QKq8b3G03pB"
      },
      "execution_count": 55,
      "outputs": []
    },
    {
      "cell_type": "code",
      "source": [
        "items['studios'] = items['studios'].fillna('Unknown')\n",
        "items['studios'] = items['studios'].str.lower()\n",
        "items['studios'] = items['studios'].apply(lambda x: ', '.join(sorted(list(set(x.split(', '))))))\n",
        "items['studios'] = items['studios'].astype('category')"
      ],
      "metadata": {
        "id": "MQMhpg6Q1BY-"
      },
      "execution_count": 56,
      "outputs": []
    },
    {
      "cell_type": "code",
      "source": [
        "items['directors'] = items['directors'].fillna('Unknown')\n",
        "items['directors'] = items['directors'].str.lower()\n",
        "items['directors'] = items['directors'].astype('category')"
      ],
      "metadata": {
        "id": "_U1MI5AZ1NsK"
      },
      "execution_count": 57,
      "outputs": []
    },
    {
      "cell_type": "code",
      "source": [
        "items['actors'] = items['actors'].fillna('Unknown')\n",
        "items['actors'] = items['actors'].astype('category')"
      ],
      "metadata": {
        "id": "M8LfQsQP1b1Y"
      },
      "execution_count": 58,
      "outputs": []
    },
    {
      "cell_type": "code",
      "source": [
        "items['keywords'] = items['keywords'].fillna('Unknown')\n",
        "items['keywords'] = items['keywords'].astype('category')"
      ],
      "metadata": {
        "id": "PTUg-YpV1jhY"
      },
      "execution_count": 59,
      "outputs": []
    },
    {
      "cell_type": "code",
      "source": [
        "items['description'] = items['description'].fillna('-')"
      ],
      "metadata": {
        "id": "xwSvA_FH1uWo"
      },
      "execution_count": 60,
      "outputs": []
    },
    {
      "cell_type": "code",
      "source": [
        "items.info(verbose=True, null_counts=True)"
      ],
      "metadata": {
        "colab": {
          "base_uri": "https://localhost:8080/"
        },
        "id": "S0p5hX9D1yue",
        "outputId": "5663033b-0613-49bd-ec8b-a923aba912ec"
      },
      "execution_count": 61,
      "outputs": [
        {
          "output_type": "stream",
          "name": "stdout",
          "text": [
            "<class 'pandas.core.frame.DataFrame'>\n",
            "RangeIndex: 15963 entries, 0 to 15962\n",
            "Data columns (total 14 columns):\n",
            " #   Column            Non-Null Count  Dtype   \n",
            "---  ------            --------------  -----   \n",
            " 0   item_id           15963 non-null  int64   \n",
            " 1   content_type      15963 non-null  category\n",
            " 2   title             15963 non-null  object  \n",
            " 3   title_orig        15963 non-null  object  \n",
            " 4   genres            15963 non-null  category\n",
            " 5   countries         15963 non-null  category\n",
            " 6   for_kids          15963 non-null  bool    \n",
            " 7   age_rating        15963 non-null  category\n",
            " 8   studios           15963 non-null  category\n",
            " 9   directors         15963 non-null  category\n",
            " 10  actors            15963 non-null  category\n",
            " 11  description       15963 non-null  object  \n",
            " 12  keywords          15963 non-null  category\n",
            " 13  release_year_cat  15963 non-null  category\n",
            "dtypes: bool(1), category(9), int64(1), object(3)\n",
            "memory usage: 2.4+ MB\n"
          ]
        },
        {
          "output_type": "stream",
          "name": "stderr",
          "text": [
            "/usr/local/lib/python3.7/dist-packages/ipykernel_launcher.py:1: FutureWarning: null_counts is deprecated. Use show_counts instead\n",
            "  \"\"\"Entry point for launching an IPython kernel.\n"
          ]
        }
      ]
    },
    {
      "cell_type": "markdown",
      "source": [
        "## Interactions"
      ],
      "metadata": {
        "id": "qqOw7s_a2GDs"
      }
    },
    {
      "cell_type": "code",
      "source": [
        "interactions['watched_pct'] = interactions['watched_pct'].astype(pd.Int8Dtype())\n",
        "interactions['watched_pct'] = interactions['watched_pct'].fillna(0)"
      ],
      "metadata": {
        "id": "fw0Nxj5i19qx"
      },
      "execution_count": 62,
      "outputs": []
    },
    {
      "cell_type": "code",
      "source": [
        "interactions['last_watch_dt'] = pd.to_datetime(interactions['last_watch_dt'])"
      ],
      "metadata": {
        "id": "UTPuFVCF2Ts3"
      },
      "execution_count": 63,
      "outputs": []
    },
    {
      "cell_type": "code",
      "source": [
        "interactions.info(null_counts=True, verbose=True)"
      ],
      "metadata": {
        "colab": {
          "base_uri": "https://localhost:8080/"
        },
        "id": "1eqFruVM2fal",
        "outputId": "becf4727-31d9-41d3-fd68-c0281d4e82ee"
      },
      "execution_count": 64,
      "outputs": [
        {
          "output_type": "stream",
          "name": "stdout",
          "text": [
            "<class 'pandas.core.frame.DataFrame'>\n",
            "RangeIndex: 5476251 entries, 0 to 5476250\n",
            "Data columns (total 5 columns):\n",
            " #   Column         Non-Null Count    Dtype         \n",
            "---  ------         --------------    -----         \n",
            " 0   user_id        5476251 non-null  int64         \n",
            " 1   item_id        5476251 non-null  int64         \n",
            " 2   last_watch_dt  5476251 non-null  datetime64[ns]\n",
            " 3   total_dur      5476251 non-null  int64         \n",
            " 4   watched_pct    5476251 non-null  Int8          \n",
            "dtypes: Int8(1), datetime64[ns](1), int64(3)\n",
            "memory usage: 177.6 MB\n"
          ]
        },
        {
          "output_type": "stream",
          "name": "stderr",
          "text": [
            "/usr/local/lib/python3.7/dist-packages/ipykernel_launcher.py:1: FutureWarning: null_counts is deprecated. Use show_counts instead\n",
            "  \"\"\"Entry point for launching an IPython kernel.\n"
          ]
        }
      ]
    },
    {
      "cell_type": "markdown",
      "source": [
        "# Save Data"
      ],
      "metadata": {
        "id": "hNUjYzMR4FIy"
      }
    },
    {
      "cell_type": "code",
      "source": [
        "feather.write_feather(\n",
        "    users, '/content/drive/MyDrive/Проекты/recsys/data/processed_data/users_process.csv')\n",
        "feather.write_feather(\n",
        "    items, '/content/drive/MyDrive/Проекты/recsys/data/processed_data/items_process.csv')\n",
        "feather.write_feather(\n",
        "    interactions, \n",
        "    '/content/drive/MyDrive/Проекты/recsys/data/processed_data/interactions_process.csv')"
      ],
      "metadata": {
        "id": "_Ij1oNnX2jf3"
      },
      "execution_count": 65,
      "outputs": []
    },
    {
      "cell_type": "code",
      "source": [],
      "metadata": {
        "id": "NQFEqB43429G"
      },
      "execution_count": null,
      "outputs": []
    }
  ]
}