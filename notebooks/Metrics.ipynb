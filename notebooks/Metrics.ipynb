{
 "cells": [
  {
   "cell_type": "code",
   "execution_count": null,
   "id": "911bbc58",
   "metadata": {},
   "outputs": [],
   "source": []
  },
  {
   "cell_type": "code",
   "execution_count": 78,
   "id": "d864dc28",
   "metadata": {},
   "outputs": [],
   "source": [
    "import pandas as pd\n",
    "import numpy as np\n",
    "from rectools import Columns"
   ]
  },
  {
   "cell_type": "markdown",
   "id": "0ad25dec",
   "metadata": {},
   "source": [
    "# PFound"
   ]
  },
  {
   "cell_type": "code",
   "execution_count": 6,
   "id": "69328e02",
   "metadata": {},
   "outputs": [],
   "source": [
    "#  id запроса и текст запроса, разделённые табуляцией\n",
    "qid_query = pd.read_csv(\"/Users/dmitry/Downloads/yandex_cup_analytics_A/hidden_task/qid_query.tsv\", \n",
    "                        sep=\"\\t\", \n",
    "                        names=[\"qid\", \"query\"])\n",
    "#  id запроса, URL документа, релевантность документа запросу;\n",
    "qid_url_rating = pd.read_csv(\"/Users/dmitry/Downloads/yandex_cup_analytics_A/hidden_task/qid_url_rating.tsv\", \n",
    "                             sep=\"\\t\", \n",
    "                             names=[\"qid\", \"url\", \"rating\"])\n",
    "# hostid_url.tsv — id хоста и URL документа.\n",
    "hostid_url = pd.read_csv(\"/Users/dmitry/Downloads/yandex_cup_analytics_A/hidden_task/hostid_url.tsv\", \n",
    "                         sep=\"\\t\", \n",
    "                         names=[\"hostid\", \"url\"])"
   ]
  },
  {
   "cell_type": "code",
   "execution_count": 4,
   "id": "00d48bec",
   "metadata": {},
   "outputs": [
    {
     "data": {
      "text/html": [
       "<div>\n",
       "<style scoped>\n",
       "    .dataframe tbody tr th:only-of-type {\n",
       "        vertical-align: middle;\n",
       "    }\n",
       "\n",
       "    .dataframe tbody tr th {\n",
       "        vertical-align: top;\n",
       "    }\n",
       "\n",
       "    .dataframe thead th {\n",
       "        text-align: right;\n",
       "    }\n",
       "</style>\n",
       "<table border=\"1\" class=\"dataframe\">\n",
       "  <thead>\n",
       "    <tr style=\"text-align: right;\">\n",
       "      <th></th>\n",
       "      <th>qid</th>\n",
       "      <th>query</th>\n",
       "    </tr>\n",
       "  </thead>\n",
       "  <tbody>\n",
       "    <tr>\n",
       "      <th>0</th>\n",
       "      <td>402111</td>\n",
       "      <td>работа фотографом в австралии</td>\n",
       "    </tr>\n",
       "    <tr>\n",
       "      <th>1</th>\n",
       "      <td>405851</td>\n",
       "      <td>производительность видеокарт</td>\n",
       "    </tr>\n",
       "    <tr>\n",
       "      <th>2</th>\n",
       "      <td>407522</td>\n",
       "      <td>ёлочные игрушки из пластиковых бутылок</td>\n",
       "    </tr>\n",
       "  </tbody>\n",
       "</table>\n",
       "</div>"
      ],
      "text/plain": [
       "      qid                                   query\n",
       "0  402111           работа фотографом в австралии\n",
       "1  405851            производительность видеокарт\n",
       "2  407522  ёлочные игрушки из пластиковых бутылок"
      ]
     },
     "execution_count": 4,
     "metadata": {},
     "output_type": "execute_result"
    }
   ],
   "source": [
    "qid_query[:3]"
   ]
  },
  {
   "cell_type": "code",
   "execution_count": 7,
   "id": "ea0a41f6",
   "metadata": {},
   "outputs": [
    {
     "data": {
      "text/html": [
       "<div>\n",
       "<style scoped>\n",
       "    .dataframe tbody tr th:only-of-type {\n",
       "        vertical-align: middle;\n",
       "    }\n",
       "\n",
       "    .dataframe tbody tr th {\n",
       "        vertical-align: top;\n",
       "    }\n",
       "\n",
       "    .dataframe thead th {\n",
       "        text-align: right;\n",
       "    }\n",
       "</style>\n",
       "<table border=\"1\" class=\"dataframe\">\n",
       "  <thead>\n",
       "    <tr style=\"text-align: right;\">\n",
       "      <th></th>\n",
       "      <th>qid</th>\n",
       "      <th>url</th>\n",
       "      <th>rating</th>\n",
       "    </tr>\n",
       "  </thead>\n",
       "  <tbody>\n",
       "    <tr>\n",
       "      <th>0</th>\n",
       "      <td>402111</td>\n",
       "      <td>http://24-job.com/board/job_australia/232-1-2-...</td>\n",
       "      <td>0.07</td>\n",
       "    </tr>\n",
       "    <tr>\n",
       "      <th>1</th>\n",
       "      <td>402111</td>\n",
       "      <td>http://24-job.com/board/job_australia/232-1-2-...</td>\n",
       "      <td>0.07</td>\n",
       "    </tr>\n",
       "    <tr>\n",
       "      <th>2</th>\n",
       "      <td>402111</td>\n",
       "      <td>http://802351.info/5964-v-avstralii.html</td>\n",
       "      <td>0.00</td>\n",
       "    </tr>\n",
       "  </tbody>\n",
       "</table>\n",
       "</div>"
      ],
      "text/plain": [
       "      qid                                                url  rating\n",
       "0  402111  http://24-job.com/board/job_australia/232-1-2-...    0.07\n",
       "1  402111  http://24-job.com/board/job_australia/232-1-2-...    0.07\n",
       "2  402111           http://802351.info/5964-v-avstralii.html    0.00"
      ]
     },
     "execution_count": 7,
     "metadata": {},
     "output_type": "execute_result"
    }
   ],
   "source": [
    "qid_url_rating[:3]"
   ]
  },
  {
   "cell_type": "code",
   "execution_count": 8,
   "id": "2d1f16a2",
   "metadata": {},
   "outputs": [
    {
     "data": {
      "text/html": [
       "<div>\n",
       "<style scoped>\n",
       "    .dataframe tbody tr th:only-of-type {\n",
       "        vertical-align: middle;\n",
       "    }\n",
       "\n",
       "    .dataframe tbody tr th {\n",
       "        vertical-align: top;\n",
       "    }\n",
       "\n",
       "    .dataframe thead th {\n",
       "        text-align: right;\n",
       "    }\n",
       "</style>\n",
       "<table border=\"1\" class=\"dataframe\">\n",
       "  <thead>\n",
       "    <tr style=\"text-align: right;\">\n",
       "      <th></th>\n",
       "      <th>hostid</th>\n",
       "      <th>url</th>\n",
       "    </tr>\n",
       "  </thead>\n",
       "  <tbody>\n",
       "    <tr>\n",
       "      <th>0</th>\n",
       "      <td>1</td>\n",
       "      <td>http://09spravki.ru/requisites.php</td>\n",
       "    </tr>\n",
       "    <tr>\n",
       "      <th>1</th>\n",
       "      <td>10</td>\n",
       "      <td>http://3pu.info/seo-tools/domains</td>\n",
       "    </tr>\n",
       "    <tr>\n",
       "      <th>2</th>\n",
       "      <td>1006</td>\n",
       "      <td>http://www.priroda.su/item/820</td>\n",
       "    </tr>\n",
       "  </tbody>\n",
       "</table>\n",
       "</div>"
      ],
      "text/plain": [
       "   hostid                                 url\n",
       "0       1  http://09spravki.ru/requisites.php\n",
       "1      10   http://3pu.info/seo-tools/domains\n",
       "2    1006      http://www.priroda.su/item/820"
      ]
     },
     "execution_count": 8,
     "metadata": {},
     "output_type": "execute_result"
    }
   ],
   "source": [
    "hostid_url[:3]"
   ]
  },
  {
   "cell_type": "code",
   "execution_count": 9,
   "id": "4b5a824c",
   "metadata": {},
   "outputs": [],
   "source": [
    "qid_url_rating_hostid = pd.merge(qid_url_rating, hostid_url, on=\"url\")"
   ]
  },
  {
   "cell_type": "code",
   "execution_count": 10,
   "id": "82edd9ba",
   "metadata": {},
   "outputs": [
    {
     "data": {
      "text/html": [
       "<div>\n",
       "<style scoped>\n",
       "    .dataframe tbody tr th:only-of-type {\n",
       "        vertical-align: middle;\n",
       "    }\n",
       "\n",
       "    .dataframe tbody tr th {\n",
       "        vertical-align: top;\n",
       "    }\n",
       "\n",
       "    .dataframe thead th {\n",
       "        text-align: right;\n",
       "    }\n",
       "</style>\n",
       "<table border=\"1\" class=\"dataframe\">\n",
       "  <thead>\n",
       "    <tr style=\"text-align: right;\">\n",
       "      <th></th>\n",
       "      <th>qid</th>\n",
       "      <th>url</th>\n",
       "      <th>rating</th>\n",
       "      <th>hostid</th>\n",
       "    </tr>\n",
       "  </thead>\n",
       "  <tbody>\n",
       "    <tr>\n",
       "      <th>0</th>\n",
       "      <td>402111</td>\n",
       "      <td>http://24-job.com/board/job_australia/232-1-2-...</td>\n",
       "      <td>0.07</td>\n",
       "      <td>7</td>\n",
       "    </tr>\n",
       "    <tr>\n",
       "      <th>1</th>\n",
       "      <td>402111</td>\n",
       "      <td>http://24-job.com/board/job_australia/232-1-2-...</td>\n",
       "      <td>0.07</td>\n",
       "      <td>7</td>\n",
       "    </tr>\n",
       "    <tr>\n",
       "      <th>2</th>\n",
       "      <td>402111</td>\n",
       "      <td>http://802351.info/5964-v-avstralii.html</td>\n",
       "      <td>0.00</td>\n",
       "      <td>13</td>\n",
       "    </tr>\n",
       "    <tr>\n",
       "      <th>3</th>\n",
       "      <td>402111</td>\n",
       "      <td>http://auscommunity.com/blog/jobs/</td>\n",
       "      <td>0.00</td>\n",
       "      <td>53</td>\n",
       "    </tr>\n",
       "    <tr>\n",
       "      <th>4</th>\n",
       "      <td>402111</td>\n",
       "      <td>http://auscommunity.com/tag/%D1%84%D0%BE%D1%82...</td>\n",
       "      <td>0.00</td>\n",
       "      <td>53</td>\n",
       "    </tr>\n",
       "  </tbody>\n",
       "</table>\n",
       "</div>"
      ],
      "text/plain": [
       "      qid                                                url  rating  hostid\n",
       "0  402111  http://24-job.com/board/job_australia/232-1-2-...    0.07       7\n",
       "1  402111  http://24-job.com/board/job_australia/232-1-2-...    0.07       7\n",
       "2  402111           http://802351.info/5964-v-avstralii.html    0.00      13\n",
       "3  402111                 http://auscommunity.com/blog/jobs/    0.00      53\n",
       "4  402111  http://auscommunity.com/tag/%D1%84%D0%BE%D1%82...    0.00      53"
      ]
     },
     "execution_count": 10,
     "metadata": {},
     "output_type": "execute_result"
    }
   ],
   "source": [
    "qid_url_rating_hostid[:5]"
   ]
  },
  {
   "cell_type": "code",
   "execution_count": 75,
   "id": "817d56b7",
   "metadata": {},
   "outputs": [],
   "source": [
    "def p_found(data: pd.DataFrame, \n",
    "            group_col: list, \n",
    "            rating_col: str, \n",
    "            K: int, \n",
    "            p_break: float = 0.15) ->float:\n",
    "    \n",
    "    # create data with max rating of each group per item\n",
    "    max_by_group = data.groupby(\n",
    "        group_col)[rating_col].max().reset_index().sort_values(\n",
    "            [group_col[0], rating_col], ascending=False).groupby(group_col[0]).head(K)\n",
    "    \n",
    "    # create numbers(index) for each items\n",
    "    max_by_group['numbers'] = max_by_group.groupby(group_col[0]).cumcount()\n",
    "    \n",
    "    # calculate (1 - Rel) and (1 - pBreak)\n",
    "    max_by_group['1 - Rel'] = (1 - max_by_group[rating_col]).shift(1)\n",
    "    max_by_group['1 - pBreak'] = 1 - p_break\n",
    "    \n",
    "    # first values for n == 0 will be 1\n",
    "    max_by_group.loc[max_by_group['numbers'] == 0, ['1 - Rel', '1 - pBreak']] = 1\n",
    "    \n",
    "    # lets multiply (1 - Rel) and (1 - pBreak)\n",
    "    max_by_group['multiply'] = max_by_group['1 - Rel'] * max_by_group['1 - pBreak']\n",
    "    \n",
    "    # Plook is a recursion function. For it we will use a pd.cumprod method\n",
    "    max_by_group['Plook'] = max_by_group.groupby(group_col[0])['multiply'].cumprod()\n",
    "    max_by_group['PFound'] = max_by_group['Plook'] * max_by_group[rating_col]\n",
    "    \n",
    "    return max_by_group.groupby(group_col[0])['PFound'].sum().mean()"
   ]
  },
  {
   "cell_type": "code",
   "execution_count": 77,
   "id": "0533b33d",
   "metadata": {},
   "outputs": [
    {
     "data": {
      "text/plain": [
       "0.5370314635332146"
      ]
     },
     "execution_count": 77,
     "metadata": {},
     "output_type": "execute_result"
    }
   ],
   "source": [
    "p_found(qid_url_rating_hostid, ['qid', 'hostid'], 'rating', 5)"
   ]
  },
  {
   "cell_type": "markdown",
   "id": "73b0c4e6",
   "metadata": {},
   "source": [
    "# MRR"
   ]
  },
  {
   "cell_type": "code",
   "execution_count": 140,
   "id": "b33d7946",
   "metadata": {},
   "outputs": [],
   "source": [
    "interactions = pd.read_csv('/Users/dmitry/Downloads/kion_train/interactions.csv')\n",
    "\n",
    "interactions.rename(\n",
    "    columns={\n",
    "        'track_id': Columns.Item,\n",
    "        'last_watch_dt': Columns.Datetime,\n",
    "        'total_dur': Columns.Weight\n",
    "    }, \n",
    "    inplace=True) \n",
    "\n",
    "interactions[Columns.Datetime] = pd.to_datetime(interactions[Columns.Datetime])"
   ]
  },
  {
   "cell_type": "code",
   "execution_count": 141,
   "id": "fc2de13a",
   "metadata": {},
   "outputs": [
    {
     "data": {
      "text/html": [
       "<div>\n",
       "<style scoped>\n",
       "    .dataframe tbody tr th:only-of-type {\n",
       "        vertical-align: middle;\n",
       "    }\n",
       "\n",
       "    .dataframe tbody tr th {\n",
       "        vertical-align: top;\n",
       "    }\n",
       "\n",
       "    .dataframe thead th {\n",
       "        text-align: right;\n",
       "    }\n",
       "</style>\n",
       "<table border=\"1\" class=\"dataframe\">\n",
       "  <thead>\n",
       "    <tr style=\"text-align: right;\">\n",
       "      <th></th>\n",
       "      <th>user_id</th>\n",
       "      <th>item_id</th>\n",
       "      <th>datetime</th>\n",
       "      <th>weight</th>\n",
       "      <th>watched_pct</th>\n",
       "    </tr>\n",
       "  </thead>\n",
       "  <tbody>\n",
       "    <tr>\n",
       "      <th>0</th>\n",
       "      <td>176549</td>\n",
       "      <td>9506</td>\n",
       "      <td>2021-05-11</td>\n",
       "      <td>4250</td>\n",
       "      <td>72.0</td>\n",
       "    </tr>\n",
       "    <tr>\n",
       "      <th>1</th>\n",
       "      <td>699317</td>\n",
       "      <td>1659</td>\n",
       "      <td>2021-05-29</td>\n",
       "      <td>8317</td>\n",
       "      <td>100.0</td>\n",
       "    </tr>\n",
       "    <tr>\n",
       "      <th>2</th>\n",
       "      <td>656683</td>\n",
       "      <td>7107</td>\n",
       "      <td>2021-05-09</td>\n",
       "      <td>10</td>\n",
       "      <td>0.0</td>\n",
       "    </tr>\n",
       "    <tr>\n",
       "      <th>3</th>\n",
       "      <td>864613</td>\n",
       "      <td>7638</td>\n",
       "      <td>2021-07-05</td>\n",
       "      <td>14483</td>\n",
       "      <td>100.0</td>\n",
       "    </tr>\n",
       "    <tr>\n",
       "      <th>4</th>\n",
       "      <td>964868</td>\n",
       "      <td>9506</td>\n",
       "      <td>2021-04-30</td>\n",
       "      <td>6725</td>\n",
       "      <td>100.0</td>\n",
       "    </tr>\n",
       "    <tr>\n",
       "      <th>5</th>\n",
       "      <td>1032142</td>\n",
       "      <td>6686</td>\n",
       "      <td>2021-05-13</td>\n",
       "      <td>11286</td>\n",
       "      <td>100.0</td>\n",
       "    </tr>\n",
       "    <tr>\n",
       "      <th>6</th>\n",
       "      <td>1016458</td>\n",
       "      <td>354</td>\n",
       "      <td>2021-08-14</td>\n",
       "      <td>1672</td>\n",
       "      <td>25.0</td>\n",
       "    </tr>\n",
       "    <tr>\n",
       "      <th>7</th>\n",
       "      <td>884009</td>\n",
       "      <td>693</td>\n",
       "      <td>2021-08-04</td>\n",
       "      <td>703</td>\n",
       "      <td>14.0</td>\n",
       "    </tr>\n",
       "    <tr>\n",
       "      <th>8</th>\n",
       "      <td>648682</td>\n",
       "      <td>1449</td>\n",
       "      <td>2021-06-13</td>\n",
       "      <td>26246</td>\n",
       "      <td>75.0</td>\n",
       "    </tr>\n",
       "    <tr>\n",
       "      <th>9</th>\n",
       "      <td>203219</td>\n",
       "      <td>13582</td>\n",
       "      <td>2021-08-22</td>\n",
       "      <td>6975</td>\n",
       "      <td>100.0</td>\n",
       "    </tr>\n",
       "  </tbody>\n",
       "</table>\n",
       "</div>"
      ],
      "text/plain": [
       "   user_id  item_id   datetime  weight  watched_pct\n",
       "0   176549     9506 2021-05-11    4250         72.0\n",
       "1   699317     1659 2021-05-29    8317        100.0\n",
       "2   656683     7107 2021-05-09      10          0.0\n",
       "3   864613     7638 2021-07-05   14483        100.0\n",
       "4   964868     9506 2021-04-30    6725        100.0\n",
       "5  1032142     6686 2021-05-13   11286        100.0\n",
       "6  1016458      354 2021-08-14    1672         25.0\n",
       "7   884009      693 2021-08-04     703         14.0\n",
       "8   648682     1449 2021-06-13   26246         75.0\n",
       "9   203219    13582 2021-08-22    6975        100.0"
      ]
     },
     "execution_count": 141,
     "metadata": {},
     "output_type": "execute_result"
    }
   ],
   "source": [
    "interactions[: 10]"
   ]
  },
  {
   "cell_type": "code",
   "execution_count": 151,
   "id": "43ea1e8e",
   "metadata": {},
   "outputs": [],
   "source": [
    "def generate_subsample(data: pd.DataFrame, users_count: int, top_k: int):\n",
    "    users = np.random.choice(data[Columns.User].unique(), users_count, replace=False)\n",
    "    df = data[data[Columns.User].isin(users)].reset_index(drop=True)\n",
    "    del df[Columns.Datetime], df[Columns.Weight], df['watched_pct']\n",
    "    \n",
    "    recs = np.random.choice(df[Columns.Item], size=(users_count, top_k))\n",
    "    return df, users, recs"
   ]
  },
  {
   "cell_type": "code",
   "execution_count": 201,
   "id": "fc0b0d3c",
   "metadata": {},
   "outputs": [],
   "source": [
    "sample, users, recs = generate_subsample(interactions, 100000, 5)"
   ]
  },
  {
   "cell_type": "code",
   "execution_count": 202,
   "id": "c01c8a38",
   "metadata": {},
   "outputs": [],
   "source": [
    "def mrr_pandas(df: pd.DataFrame, users: np.array, recs: np.array, K: int) -> float:\n",
    "    # create recs dataset\n",
    "    df_recs = pd.DataFrame({'user_id': np.repeat(users, 5), 'item_id': recs.ravel()})\n",
    "    # calculate rank\n",
    "    df_recs['rank'] = df_recs.groupby('user_id').cumcount() + 1\n",
    "    # join data\n",
    "    df_recs = sample.merge(df_recs, how='left', left_on=['user_id', 'item_id'], right_on=['user_id', 'item_id'])\n",
    "    df_recs = df_recs.sort_values(by=['user_id', 'rank'])\n",
    "    # take min rank and calculate reciprocal rank\n",
    "    df_recs[df_recs['rank'].notna()].groupby('user_id')[['rank']].min()\n",
    "    df_recs['1/rank'] = 1/df_recs['rank']\n",
    "    df_recs = df_recs.fillna(0)\n",
    "    mrr = df_recs['1/rank'].sum() / df_recs['user_id'].nunique()\n",
    "    return mrr"
   ]
  },
  {
   "cell_type": "code",
   "execution_count": 203,
   "id": "5c296e99",
   "metadata": {},
   "outputs": [
    {
     "data": {
      "text/plain": [
       "0.07146466666666665"
      ]
     },
     "execution_count": 203,
     "metadata": {},
     "output_type": "execute_result"
    }
   ],
   "source": [
    "mrr_pandas(sample, users, recs, 5)"
   ]
  },
  {
   "cell_type": "code",
   "execution_count": null,
   "id": "6620fe80",
   "metadata": {},
   "outputs": [],
   "source": []
  }
 ],
 "metadata": {
  "kernelspec": {
   "display_name": "Python 3 (ipykernel)",
   "language": "python",
   "name": "python3"
  },
  "language_info": {
   "codemirror_mode": {
    "name": "ipython",
    "version": 3
   },
   "file_extension": ".py",
   "mimetype": "text/x-python",
   "name": "python",
   "nbconvert_exporter": "python",
   "pygments_lexer": "ipython3",
   "version": "3.9.12"
  },
  "toc": {
   "base_numbering": 1,
   "nav_menu": {},
   "number_sections": true,
   "sideBar": true,
   "skip_h1_title": false,
   "title_cell": "Table of Contents",
   "title_sidebar": "Contents",
   "toc_cell": false,
   "toc_position": {},
   "toc_section_display": true,
   "toc_window_display": false
  }
 },
 "nbformat": 4,
 "nbformat_minor": 5
}
