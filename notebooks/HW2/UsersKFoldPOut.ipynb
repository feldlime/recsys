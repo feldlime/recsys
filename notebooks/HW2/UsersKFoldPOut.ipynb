{
 "cells": [
  {
   "cell_type": "code",
   "execution_count": 93,
   "id": "0fd21143",
   "metadata": {},
   "outputs": [],
   "source": [
    "import pandas as pd\n",
    "import numpy as np\n",
    "import pyarrow.feather as feather\n",
    "from typing import Union"
   ]
  },
  {
   "cell_type": "code",
   "execution_count": 2,
   "id": "95d3dd09",
   "metadata": {},
   "outputs": [],
   "source": [
    "df = feather.read_feather('/Users/dmitry/Library/CloudStorage/GoogleDrive-ceo@gangai.pro/Мой диск/Проекты/recsys/HW/data/processed/target_df.feather')"
   ]
  },
  {
   "cell_type": "code",
   "execution_count": 78,
   "id": "8f4bd551",
   "metadata": {},
   "outputs": [],
   "source": [
    "sample = df[:10000]"
   ]
  },
  {
   "cell_type": "code",
   "execution_count": 95,
   "id": "fd8fec60",
   "metadata": {},
   "outputs": [],
   "source": [
    "class UsersKFoldPOut():\n",
    "    \n",
    "    def __init__(self, n_folds, user_column: str, random_seed: int, p: int):\n",
    "        self.n_folds = n_folds\n",
    "        self.user_column = user_column\n",
    "        self.random_seed = random_seed\n",
    "        self.p = p\n",
    "        \n",
    "    \n",
    "    def split(self, df: pd.DataFrame) -> Union[list, list, int]:\n",
    "        \"\"\"\n",
    "        Method for split dataset\n",
    "        :param df: your dataset\n",
    "        :return: train indexes, test indexes, p\n",
    "        \"\"\"\n",
    "        users = df[self.user_column].unique()\n",
    "        users_count = len(users)\n",
    "        \n",
    "        np.random.seed(self.random_seed)\n",
    "        np.random.shuffle(users)\n",
    "        \n",
    "        fold_sizes = np.full(self.n_folds, users_count // self.n_folds, dtype=int)\n",
    "        fold_sizes[: users_count % self.n_folds] += 1\n",
    "        current = 0\n",
    "        \n",
    "        for fold_size in fold_sizes:\n",
    "            \n",
    "            start, stop = current, current + fold_size\n",
    "            test_fold_users = users[start:stop]\n",
    "            test_mask = df[self.user_column].isin(test_fold_users)\n",
    "            train_mask = ~test_mask\n",
    "            \n",
    "            yield train_mask, test_mask, self.p"
   ]
  },
  {
   "cell_type": "code",
   "execution_count": 101,
   "id": "e02cedd5",
   "metadata": {},
   "outputs": [],
   "source": [
    "n_folds = 3\n",
    "p = 5\n",
    "RAND = 23\n",
    "users_count = 9"
   ]
  },
  {
   "cell_type": "code",
   "execution_count": 103,
   "id": "68bcd1de",
   "metadata": {},
   "outputs": [
    {
     "name": "stdout",
     "output_type": "stream",
     "text": [
      "Fold#0 | Train: 390, Test: 200\n",
      "Fold#1 | Train: 395, Test: 195\n",
      "Fold#2 | Train: 395, Test: 195\n"
     ]
    }
   ],
   "source": [
    "cv = UsersKFoldPOut(n_folds, user_column='user_id', random_seed=RAND, p=p)\n",
    "\n",
    "for i, (train_mask, test_mask, p) in enumerate(cv.split(sample)):\n",
    "    train = sample[train_mask]\n",
    "    train = train[train['order'] < p]\n",
    "    test = sample[test_mask]\n",
    "    test = test[test['order'] < p]\n",
    "    print(f'Fold#{i} | Train: {train.shape[0]}, Test: {test.shape[0]}')"
   ]
  },
  {
   "cell_type": "code",
   "execution_count": 104,
   "id": "cd4d7e3a",
   "metadata": {},
   "outputs": [
    {
     "data": {
      "text/html": [
       "<div>\n",
       "<style scoped>\n",
       "    .dataframe tbody tr th:only-of-type {\n",
       "        vertical-align: middle;\n",
       "    }\n",
       "\n",
       "    .dataframe tbody tr th {\n",
       "        vertical-align: top;\n",
       "    }\n",
       "\n",
       "    .dataframe thead th {\n",
       "        text-align: right;\n",
       "    }\n",
       "</style>\n",
       "<table border=\"1\" class=\"dataframe\">\n",
       "  <thead>\n",
       "    <tr style=\"text-align: right;\">\n",
       "      <th></th>\n",
       "      <th>user_id</th>\n",
       "      <th>items_id</th>\n",
       "      <th>order</th>\n",
       "    </tr>\n",
       "  </thead>\n",
       "  <tbody>\n",
       "    <tr>\n",
       "      <th>0</th>\n",
       "      <td>0</td>\n",
       "      <td>388242</td>\n",
       "      <td>0</td>\n",
       "    </tr>\n",
       "    <tr>\n",
       "      <th>1</th>\n",
       "      <td>0</td>\n",
       "      <td>278503</td>\n",
       "      <td>1</td>\n",
       "    </tr>\n",
       "    <tr>\n",
       "      <th>2</th>\n",
       "      <td>0</td>\n",
       "      <td>102795</td>\n",
       "      <td>2</td>\n",
       "    </tr>\n",
       "    <tr>\n",
       "      <th>3</th>\n",
       "      <td>0</td>\n",
       "      <td>470957</td>\n",
       "      <td>3</td>\n",
       "    </tr>\n",
       "    <tr>\n",
       "      <th>4</th>\n",
       "      <td>0</td>\n",
       "      <td>159637</td>\n",
       "      <td>4</td>\n",
       "    </tr>\n",
       "    <tr>\n",
       "      <th>54</th>\n",
       "      <td>1</td>\n",
       "      <td>457396</td>\n",
       "      <td>0</td>\n",
       "    </tr>\n",
       "    <tr>\n",
       "      <th>55</th>\n",
       "      <td>1</td>\n",
       "      <td>58492</td>\n",
       "      <td>1</td>\n",
       "    </tr>\n",
       "    <tr>\n",
       "      <th>56</th>\n",
       "      <td>1</td>\n",
       "      <td>20988</td>\n",
       "      <td>2</td>\n",
       "    </tr>\n",
       "    <tr>\n",
       "      <th>57</th>\n",
       "      <td>1</td>\n",
       "      <td>388187</td>\n",
       "      <td>3</td>\n",
       "    </tr>\n",
       "    <tr>\n",
       "      <th>58</th>\n",
       "      <td>1</td>\n",
       "      <td>311755</td>\n",
       "      <td>4</td>\n",
       "    </tr>\n",
       "  </tbody>\n",
       "</table>\n",
       "</div>"
      ],
      "text/plain": [
       "    user_id items_id  order\n",
       "0         0   388242      0\n",
       "1         0   278503      1\n",
       "2         0   102795      2\n",
       "3         0   470957      3\n",
       "4         0   159637      4\n",
       "54        1   457396      0\n",
       "55        1    58492      1\n",
       "56        1    20988      2\n",
       "57        1   388187      3\n",
       "58        1   311755      4"
      ]
     },
     "execution_count": 104,
     "metadata": {},
     "output_type": "execute_result"
    }
   ],
   "source": [
    "train[:10]"
   ]
  },
  {
   "cell_type": "code",
   "execution_count": 105,
   "id": "ddbeb474",
   "metadata": {},
   "outputs": [
    {
     "data": {
      "text/html": [
       "<div>\n",
       "<style scoped>\n",
       "    .dataframe tbody tr th:only-of-type {\n",
       "        vertical-align: middle;\n",
       "    }\n",
       "\n",
       "    .dataframe tbody tr th {\n",
       "        vertical-align: top;\n",
       "    }\n",
       "\n",
       "    .dataframe thead th {\n",
       "        text-align: right;\n",
       "    }\n",
       "</style>\n",
       "<table border=\"1\" class=\"dataframe\">\n",
       "  <thead>\n",
       "    <tr style=\"text-align: right;\">\n",
       "      <th></th>\n",
       "      <th>user_id</th>\n",
       "      <th>items_id</th>\n",
       "      <th>order</th>\n",
       "    </tr>\n",
       "  </thead>\n",
       "  <tbody>\n",
       "    <tr>\n",
       "      <th>83</th>\n",
       "      <td>3</td>\n",
       "      <td>281997</td>\n",
       "      <td>0</td>\n",
       "    </tr>\n",
       "    <tr>\n",
       "      <th>84</th>\n",
       "      <td>3</td>\n",
       "      <td>169130</td>\n",
       "      <td>1</td>\n",
       "    </tr>\n",
       "    <tr>\n",
       "      <th>85</th>\n",
       "      <td>3</td>\n",
       "      <td>429953</td>\n",
       "      <td>2</td>\n",
       "    </tr>\n",
       "    <tr>\n",
       "      <th>86</th>\n",
       "      <td>3</td>\n",
       "      <td>280795</td>\n",
       "      <td>3</td>\n",
       "    </tr>\n",
       "    <tr>\n",
       "      <th>87</th>\n",
       "      <td>3</td>\n",
       "      <td>253729</td>\n",
       "      <td>4</td>\n",
       "    </tr>\n",
       "    <tr>\n",
       "      <th>176</th>\n",
       "      <td>5</td>\n",
       "      <td>375102</td>\n",
       "      <td>0</td>\n",
       "    </tr>\n",
       "    <tr>\n",
       "      <th>177</th>\n",
       "      <td>5</td>\n",
       "      <td>214473</td>\n",
       "      <td>1</td>\n",
       "    </tr>\n",
       "    <tr>\n",
       "      <th>178</th>\n",
       "      <td>5</td>\n",
       "      <td>438299</td>\n",
       "      <td>2</td>\n",
       "    </tr>\n",
       "    <tr>\n",
       "      <th>179</th>\n",
       "      <td>5</td>\n",
       "      <td>28369</td>\n",
       "      <td>3</td>\n",
       "    </tr>\n",
       "    <tr>\n",
       "      <th>180</th>\n",
       "      <td>5</td>\n",
       "      <td>291548</td>\n",
       "      <td>4</td>\n",
       "    </tr>\n",
       "  </tbody>\n",
       "</table>\n",
       "</div>"
      ],
      "text/plain": [
       "     user_id items_id  order\n",
       "83         3   281997      0\n",
       "84         3   169130      1\n",
       "85         3   429953      2\n",
       "86         3   280795      3\n",
       "87         3   253729      4\n",
       "176        5   375102      0\n",
       "177        5   214473      1\n",
       "178        5   438299      2\n",
       "179        5    28369      3\n",
       "180        5   291548      4"
      ]
     },
     "execution_count": 105,
     "metadata": {},
     "output_type": "execute_result"
    }
   ],
   "source": [
    "test[:10]"
   ]
  },
  {
   "cell_type": "code",
   "execution_count": 106,
   "id": "2fd8dccd",
   "metadata": {},
   "outputs": [
    {
     "name": "stdout",
     "output_type": "stream",
     "text": [
      "Количество пользователей из train в test: 0\n"
     ]
    }
   ],
   "source": [
    "print(f'Количество пользователей из train в test: {np.sum(train[\"user_id\"].isin(test[\"user_id\"]))}')"
   ]
  },
  {
   "cell_type": "code",
   "execution_count": null,
   "id": "0efa7bd0",
   "metadata": {},
   "outputs": [],
   "source": []
  }
 ],
 "metadata": {
  "kernelspec": {
   "display_name": "Python 3 (ipykernel)",
   "language": "python",
   "name": "python3"
  },
  "language_info": {
   "codemirror_mode": {
    "name": "ipython",
    "version": 3
   },
   "file_extension": ".py",
   "mimetype": "text/x-python",
   "name": "python",
   "nbconvert_exporter": "python",
   "pygments_lexer": "ipython3",
   "version": "3.9.12"
  },
  "toc": {
   "base_numbering": 1,
   "nav_menu": {},
   "number_sections": true,
   "sideBar": true,
   "skip_h1_title": false,
   "title_cell": "Table of Contents",
   "title_sidebar": "Contents",
   "toc_cell": false,
   "toc_position": {},
   "toc_section_display": true,
   "toc_window_display": false
  }
 },
 "nbformat": 4,
 "nbformat_minor": 5
}
