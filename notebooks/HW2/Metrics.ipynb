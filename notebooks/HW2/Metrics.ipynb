{
 "cells": [
  {
   "cell_type": "code",
   "execution_count": 232,
   "id": "b9f028bd",
   "metadata": {},
   "outputs": [],
   "source": [
    "import pandas as pd\n",
    "import numpy as np\n",
    "import numba as nb\n",
    "from rectools import Columns\n",
    "import matplotlib.pyplot as plt\n",
    "import seaborn as sns\n",
    "import time"
   ]
  },
  {
   "cell_type": "markdown",
   "id": "74eb16f3",
   "metadata": {},
   "source": [
    "# PFound"
   ]
  },
  {
   "cell_type": "code",
   "execution_count": 6,
   "id": "015124b2",
   "metadata": {},
   "outputs": [],
   "source": [
    "#  id запроса и текст запроса, разделённые табуляцией\n",
    "qid_query = pd.read_csv(\"/Users/dmitry/Downloads/yandex_cup_analytics_A/hidden_task/qid_query.tsv\", \n",
    "                        sep=\"\\t\", \n",
    "                        names=[\"qid\", \"query\"])\n",
    "#  id запроса, URL документа, релевантность документа запросу;\n",
    "qid_url_rating = pd.read_csv(\"/Users/dmitry/Downloads/yandex_cup_analytics_A/hidden_task/qid_url_rating.tsv\", \n",
    "                             sep=\"\\t\", \n",
    "                             names=[\"qid\", \"url\", \"rating\"])\n",
    "# hostid_url.tsv — id хоста и URL документа.\n",
    "hostid_url = pd.read_csv(\"/Users/dmitry/Downloads/yandex_cup_analytics_A/hidden_task/hostid_url.tsv\", \n",
    "                         sep=\"\\t\", \n",
    "                         names=[\"hostid\", \"url\"])"
   ]
  },
  {
   "cell_type": "code",
   "execution_count": 4,
   "id": "f7fcdb0d",
   "metadata": {},
   "outputs": [
    {
     "data": {
      "text/html": [
       "<div>\n",
       "<style scoped>\n",
       "    .dataframe tbody tr th:only-of-type {\n",
       "        vertical-align: middle;\n",
       "    }\n",
       "\n",
       "    .dataframe tbody tr th {\n",
       "        vertical-align: top;\n",
       "    }\n",
       "\n",
       "    .dataframe thead th {\n",
       "        text-align: right;\n",
       "    }\n",
       "</style>\n",
       "<table border=\"1\" class=\"dataframe\">\n",
       "  <thead>\n",
       "    <tr style=\"text-align: right;\">\n",
       "      <th></th>\n",
       "      <th>qid</th>\n",
       "      <th>query</th>\n",
       "    </tr>\n",
       "  </thead>\n",
       "  <tbody>\n",
       "    <tr>\n",
       "      <th>0</th>\n",
       "      <td>402111</td>\n",
       "      <td>работа фотографом в австралии</td>\n",
       "    </tr>\n",
       "    <tr>\n",
       "      <th>1</th>\n",
       "      <td>405851</td>\n",
       "      <td>производительность видеокарт</td>\n",
       "    </tr>\n",
       "    <tr>\n",
       "      <th>2</th>\n",
       "      <td>407522</td>\n",
       "      <td>ёлочные игрушки из пластиковых бутылок</td>\n",
       "    </tr>\n",
       "  </tbody>\n",
       "</table>\n",
       "</div>"
      ],
      "text/plain": [
       "      qid                                   query\n",
       "0  402111           работа фотографом в австралии\n",
       "1  405851            производительность видеокарт\n",
       "2  407522  ёлочные игрушки из пластиковых бутылок"
      ]
     },
     "execution_count": 4,
     "metadata": {},
     "output_type": "execute_result"
    }
   ],
   "source": [
    "qid_query[:3]"
   ]
  },
  {
   "cell_type": "code",
   "execution_count": 7,
   "id": "9bb3ff6d",
   "metadata": {},
   "outputs": [
    {
     "data": {
      "text/html": [
       "<div>\n",
       "<style scoped>\n",
       "    .dataframe tbody tr th:only-of-type {\n",
       "        vertical-align: middle;\n",
       "    }\n",
       "\n",
       "    .dataframe tbody tr th {\n",
       "        vertical-align: top;\n",
       "    }\n",
       "\n",
       "    .dataframe thead th {\n",
       "        text-align: right;\n",
       "    }\n",
       "</style>\n",
       "<table border=\"1\" class=\"dataframe\">\n",
       "  <thead>\n",
       "    <tr style=\"text-align: right;\">\n",
       "      <th></th>\n",
       "      <th>qid</th>\n",
       "      <th>url</th>\n",
       "      <th>rating</th>\n",
       "    </tr>\n",
       "  </thead>\n",
       "  <tbody>\n",
       "    <tr>\n",
       "      <th>0</th>\n",
       "      <td>402111</td>\n",
       "      <td>http://24-job.com/board/job_australia/232-1-2-...</td>\n",
       "      <td>0.07</td>\n",
       "    </tr>\n",
       "    <tr>\n",
       "      <th>1</th>\n",
       "      <td>402111</td>\n",
       "      <td>http://24-job.com/board/job_australia/232-1-2-...</td>\n",
       "      <td>0.07</td>\n",
       "    </tr>\n",
       "    <tr>\n",
       "      <th>2</th>\n",
       "      <td>402111</td>\n",
       "      <td>http://802351.info/5964-v-avstralii.html</td>\n",
       "      <td>0.00</td>\n",
       "    </tr>\n",
       "  </tbody>\n",
       "</table>\n",
       "</div>"
      ],
      "text/plain": [
       "      qid                                                url  rating\n",
       "0  402111  http://24-job.com/board/job_australia/232-1-2-...    0.07\n",
       "1  402111  http://24-job.com/board/job_australia/232-1-2-...    0.07\n",
       "2  402111           http://802351.info/5964-v-avstralii.html    0.00"
      ]
     },
     "execution_count": 7,
     "metadata": {},
     "output_type": "execute_result"
    }
   ],
   "source": [
    "qid_url_rating[:3]"
   ]
  },
  {
   "cell_type": "code",
   "execution_count": 8,
   "id": "32e31265",
   "metadata": {},
   "outputs": [
    {
     "data": {
      "text/html": [
       "<div>\n",
       "<style scoped>\n",
       "    .dataframe tbody tr th:only-of-type {\n",
       "        vertical-align: middle;\n",
       "    }\n",
       "\n",
       "    .dataframe tbody tr th {\n",
       "        vertical-align: top;\n",
       "    }\n",
       "\n",
       "    .dataframe thead th {\n",
       "        text-align: right;\n",
       "    }\n",
       "</style>\n",
       "<table border=\"1\" class=\"dataframe\">\n",
       "  <thead>\n",
       "    <tr style=\"text-align: right;\">\n",
       "      <th></th>\n",
       "      <th>hostid</th>\n",
       "      <th>url</th>\n",
       "    </tr>\n",
       "  </thead>\n",
       "  <tbody>\n",
       "    <tr>\n",
       "      <th>0</th>\n",
       "      <td>1</td>\n",
       "      <td>http://09spravki.ru/requisites.php</td>\n",
       "    </tr>\n",
       "    <tr>\n",
       "      <th>1</th>\n",
       "      <td>10</td>\n",
       "      <td>http://3pu.info/seo-tools/domains</td>\n",
       "    </tr>\n",
       "    <tr>\n",
       "      <th>2</th>\n",
       "      <td>1006</td>\n",
       "      <td>http://www.priroda.su/item/820</td>\n",
       "    </tr>\n",
       "  </tbody>\n",
       "</table>\n",
       "</div>"
      ],
      "text/plain": [
       "   hostid                                 url\n",
       "0       1  http://09spravki.ru/requisites.php\n",
       "1      10   http://3pu.info/seo-tools/domains\n",
       "2    1006      http://www.priroda.su/item/820"
      ]
     },
     "execution_count": 8,
     "metadata": {},
     "output_type": "execute_result"
    }
   ],
   "source": [
    "hostid_url[:3]"
   ]
  },
  {
   "cell_type": "code",
   "execution_count": 9,
   "id": "cd1d4999",
   "metadata": {},
   "outputs": [],
   "source": [
    "qid_url_rating_hostid = pd.merge(qid_url_rating, hostid_url, on=\"url\")"
   ]
  },
  {
   "cell_type": "code",
   "execution_count": 10,
   "id": "a709241f",
   "metadata": {},
   "outputs": [
    {
     "data": {
      "text/html": [
       "<div>\n",
       "<style scoped>\n",
       "    .dataframe tbody tr th:only-of-type {\n",
       "        vertical-align: middle;\n",
       "    }\n",
       "\n",
       "    .dataframe tbody tr th {\n",
       "        vertical-align: top;\n",
       "    }\n",
       "\n",
       "    .dataframe thead th {\n",
       "        text-align: right;\n",
       "    }\n",
       "</style>\n",
       "<table border=\"1\" class=\"dataframe\">\n",
       "  <thead>\n",
       "    <tr style=\"text-align: right;\">\n",
       "      <th></th>\n",
       "      <th>qid</th>\n",
       "      <th>url</th>\n",
       "      <th>rating</th>\n",
       "      <th>hostid</th>\n",
       "    </tr>\n",
       "  </thead>\n",
       "  <tbody>\n",
       "    <tr>\n",
       "      <th>0</th>\n",
       "      <td>402111</td>\n",
       "      <td>http://24-job.com/board/job_australia/232-1-2-...</td>\n",
       "      <td>0.07</td>\n",
       "      <td>7</td>\n",
       "    </tr>\n",
       "    <tr>\n",
       "      <th>1</th>\n",
       "      <td>402111</td>\n",
       "      <td>http://24-job.com/board/job_australia/232-1-2-...</td>\n",
       "      <td>0.07</td>\n",
       "      <td>7</td>\n",
       "    </tr>\n",
       "    <tr>\n",
       "      <th>2</th>\n",
       "      <td>402111</td>\n",
       "      <td>http://802351.info/5964-v-avstralii.html</td>\n",
       "      <td>0.00</td>\n",
       "      <td>13</td>\n",
       "    </tr>\n",
       "    <tr>\n",
       "      <th>3</th>\n",
       "      <td>402111</td>\n",
       "      <td>http://auscommunity.com/blog/jobs/</td>\n",
       "      <td>0.00</td>\n",
       "      <td>53</td>\n",
       "    </tr>\n",
       "    <tr>\n",
       "      <th>4</th>\n",
       "      <td>402111</td>\n",
       "      <td>http://auscommunity.com/tag/%D1%84%D0%BE%D1%82...</td>\n",
       "      <td>0.00</td>\n",
       "      <td>53</td>\n",
       "    </tr>\n",
       "  </tbody>\n",
       "</table>\n",
       "</div>"
      ],
      "text/plain": [
       "      qid                                                url  rating  hostid\n",
       "0  402111  http://24-job.com/board/job_australia/232-1-2-...    0.07       7\n",
       "1  402111  http://24-job.com/board/job_australia/232-1-2-...    0.07       7\n",
       "2  402111           http://802351.info/5964-v-avstralii.html    0.00      13\n",
       "3  402111                 http://auscommunity.com/blog/jobs/    0.00      53\n",
       "4  402111  http://auscommunity.com/tag/%D1%84%D0%BE%D1%82...    0.00      53"
      ]
     },
     "execution_count": 10,
     "metadata": {},
     "output_type": "execute_result"
    }
   ],
   "source": [
    "qid_url_rating_hostid[:5]"
   ]
  },
  {
   "cell_type": "code",
   "execution_count": 75,
   "id": "77fbb883",
   "metadata": {},
   "outputs": [],
   "source": [
    "def p_found(data: pd.DataFrame, \n",
    "            group_col: list, \n",
    "            rating_col: str, \n",
    "            K: int, \n",
    "            p_break: float = 0.15) ->float:\n",
    "    \"\"\"\n",
    "    Function for calculate PFound metric\n",
    "    :param data: your dataset\n",
    "    :param group_col: columns for groupby\n",
    "    :params ratin_col: rating columns\n",
    "    :param K: number of recommendations\n",
    "    :param p_break: probability of stoppage\n",
    "    :return: PFound metric value\n",
    "    \"\"\"\n",
    "    # create data with max rating of each group per item\n",
    "    max_by_group = data.groupby(\n",
    "        group_col)[rating_col].max().reset_index().sort_values(\n",
    "            [group_col[0], rating_col], ascending=False).groupby(group_col[0]).head(K)\n",
    "    \n",
    "    # create numbers(index) for each items\n",
    "    max_by_group['numbers'] = max_by_group.groupby(group_col[0]).cumcount()\n",
    "    \n",
    "    # calculate (1 - Rel) and (1 - pBreak)\n",
    "    max_by_group['1 - Rel'] = (1 - max_by_group[rating_col]).shift(1)\n",
    "    max_by_group['1 - pBreak'] = 1 - p_break\n",
    "    \n",
    "    # first values for n == 0 will be 1\n",
    "    max_by_group.loc[max_by_group['numbers'] == 0, ['1 - Rel', '1 - pBreak']] = 1\n",
    "    \n",
    "    # lets multiply (1 - Rel) and (1 - pBreak)\n",
    "    max_by_group['multiply'] = max_by_group['1 - Rel'] * max_by_group['1 - pBreak']\n",
    "    \n",
    "    # Plook is a recursion function. For it we will use a pd.cumprod method\n",
    "    max_by_group['Plook'] = max_by_group.groupby(group_col[0])['multiply'].cumprod()\n",
    "    max_by_group['PFound'] = max_by_group['Plook'] * max_by_group[rating_col]\n",
    "    \n",
    "    return max_by_group.groupby(group_col[0])['PFound'].sum().mean()"
   ]
  },
  {
   "cell_type": "code",
   "execution_count": 77,
   "id": "ed9050e1",
   "metadata": {},
   "outputs": [
    {
     "data": {
      "text/plain": [
       "0.5370314635332146"
      ]
     },
     "execution_count": 77,
     "metadata": {},
     "output_type": "execute_result"
    }
   ],
   "source": [
    "p_found(qid_url_rating_hostid, ['qid', 'hostid'], 'rating', 5)"
   ]
  },
  {
   "cell_type": "markdown",
   "id": "25ad0907",
   "metadata": {},
   "source": [
    "# MRR"
   ]
  },
  {
   "cell_type": "code",
   "execution_count": 3,
   "id": "213a8379",
   "metadata": {},
   "outputs": [],
   "source": [
    "interactions = pd.read_csv('/Users/dmitry/Downloads/kion_train/interactions.csv')\n",
    "\n",
    "interactions.rename(\n",
    "    columns={\n",
    "        'track_id': Columns.Item,\n",
    "        'last_watch_dt': Columns.Datetime,\n",
    "        'total_dur': Columns.Weight\n",
    "    }, \n",
    "    inplace=True) \n",
    "\n",
    "interactions[Columns.Datetime] = pd.to_datetime(interactions[Columns.Datetime])"
   ]
  },
  {
   "cell_type": "code",
   "execution_count": 4,
   "id": "17af23d4",
   "metadata": {},
   "outputs": [
    {
     "data": {
      "text/html": [
       "<div>\n",
       "<style scoped>\n",
       "    .dataframe tbody tr th:only-of-type {\n",
       "        vertical-align: middle;\n",
       "    }\n",
       "\n",
       "    .dataframe tbody tr th {\n",
       "        vertical-align: top;\n",
       "    }\n",
       "\n",
       "    .dataframe thead th {\n",
       "        text-align: right;\n",
       "    }\n",
       "</style>\n",
       "<table border=\"1\" class=\"dataframe\">\n",
       "  <thead>\n",
       "    <tr style=\"text-align: right;\">\n",
       "      <th></th>\n",
       "      <th>user_id</th>\n",
       "      <th>item_id</th>\n",
       "      <th>datetime</th>\n",
       "      <th>weight</th>\n",
       "      <th>watched_pct</th>\n",
       "    </tr>\n",
       "  </thead>\n",
       "  <tbody>\n",
       "    <tr>\n",
       "      <th>0</th>\n",
       "      <td>176549</td>\n",
       "      <td>9506</td>\n",
       "      <td>2021-05-11</td>\n",
       "      <td>4250</td>\n",
       "      <td>72.0</td>\n",
       "    </tr>\n",
       "    <tr>\n",
       "      <th>1</th>\n",
       "      <td>699317</td>\n",
       "      <td>1659</td>\n",
       "      <td>2021-05-29</td>\n",
       "      <td>8317</td>\n",
       "      <td>100.0</td>\n",
       "    </tr>\n",
       "    <tr>\n",
       "      <th>2</th>\n",
       "      <td>656683</td>\n",
       "      <td>7107</td>\n",
       "      <td>2021-05-09</td>\n",
       "      <td>10</td>\n",
       "      <td>0.0</td>\n",
       "    </tr>\n",
       "    <tr>\n",
       "      <th>3</th>\n",
       "      <td>864613</td>\n",
       "      <td>7638</td>\n",
       "      <td>2021-07-05</td>\n",
       "      <td>14483</td>\n",
       "      <td>100.0</td>\n",
       "    </tr>\n",
       "    <tr>\n",
       "      <th>4</th>\n",
       "      <td>964868</td>\n",
       "      <td>9506</td>\n",
       "      <td>2021-04-30</td>\n",
       "      <td>6725</td>\n",
       "      <td>100.0</td>\n",
       "    </tr>\n",
       "    <tr>\n",
       "      <th>5</th>\n",
       "      <td>1032142</td>\n",
       "      <td>6686</td>\n",
       "      <td>2021-05-13</td>\n",
       "      <td>11286</td>\n",
       "      <td>100.0</td>\n",
       "    </tr>\n",
       "    <tr>\n",
       "      <th>6</th>\n",
       "      <td>1016458</td>\n",
       "      <td>354</td>\n",
       "      <td>2021-08-14</td>\n",
       "      <td>1672</td>\n",
       "      <td>25.0</td>\n",
       "    </tr>\n",
       "    <tr>\n",
       "      <th>7</th>\n",
       "      <td>884009</td>\n",
       "      <td>693</td>\n",
       "      <td>2021-08-04</td>\n",
       "      <td>703</td>\n",
       "      <td>14.0</td>\n",
       "    </tr>\n",
       "    <tr>\n",
       "      <th>8</th>\n",
       "      <td>648682</td>\n",
       "      <td>1449</td>\n",
       "      <td>2021-06-13</td>\n",
       "      <td>26246</td>\n",
       "      <td>75.0</td>\n",
       "    </tr>\n",
       "    <tr>\n",
       "      <th>9</th>\n",
       "      <td>203219</td>\n",
       "      <td>13582</td>\n",
       "      <td>2021-08-22</td>\n",
       "      <td>6975</td>\n",
       "      <td>100.0</td>\n",
       "    </tr>\n",
       "  </tbody>\n",
       "</table>\n",
       "</div>"
      ],
      "text/plain": [
       "   user_id  item_id   datetime  weight  watched_pct\n",
       "0   176549     9506 2021-05-11    4250         72.0\n",
       "1   699317     1659 2021-05-29    8317        100.0\n",
       "2   656683     7107 2021-05-09      10          0.0\n",
       "3   864613     7638 2021-07-05   14483        100.0\n",
       "4   964868     9506 2021-04-30    6725        100.0\n",
       "5  1032142     6686 2021-05-13   11286        100.0\n",
       "6  1016458      354 2021-08-14    1672         25.0\n",
       "7   884009      693 2021-08-04     703         14.0\n",
       "8   648682     1449 2021-06-13   26246         75.0\n",
       "9   203219    13582 2021-08-22    6975        100.0"
      ]
     },
     "execution_count": 4,
     "metadata": {},
     "output_type": "execute_result"
    }
   ],
   "source": [
    "interactions[: 10]"
   ]
  },
  {
   "cell_type": "code",
   "execution_count": 348,
   "id": "fbe5c1bf",
   "metadata": {},
   "outputs": [],
   "source": [
    "def generate_subsample(data: pd.DataFrame, users_count: int, top_k: int) -> tuple:\n",
    "    \"\"\"\n",
    "    Function for create sample from data\n",
    "    :param data: your dataset\n",
    "    :param users_count: number of users\n",
    "    :params top_k: number of recomendations\n",
    "    :return: dataframe with random users, users array, recomendations array\n",
    "    \"\"\"\n",
    "    users = np.random.choice(data[Columns.User].unique(), users_count, replace=False)\n",
    "    df = data[data[Columns.User].isin(users)].reset_index(drop=True)\n",
    "    del df[Columns.Datetime], df[Columns.Weight], df['watched_pct']\n",
    "    \n",
    "    recs = np.random.choice(df[Columns.Item], size=(users_count, top_k))\n",
    "    \n",
    "    return df, users, recs"
   ]
  },
  {
   "cell_type": "code",
   "execution_count": 349,
   "id": "8d9d371e",
   "metadata": {},
   "outputs": [],
   "source": [
    "sample, users, recs = generate_subsample(interactions, 5000, 5)"
   ]
  },
  {
   "cell_type": "code",
   "execution_count": 350,
   "id": "f430f1dc",
   "metadata": {},
   "outputs": [],
   "source": [
    "def mrr_pandas(df: pd.DataFrame, users: np.array, recs: np.array, K: int) -> float:\n",
    "    \"\"\"\n",
    "    Function for calculate  Mean Reciprocal Rank with pandas with vectorization\n",
    "    :param df: your dataset\n",
    "    :param users: array with users\n",
    "    :params recs: array with recomendations\n",
    "    :param K: number of recommendations\n",
    "    :return: Mean Reciprocal Rank value\n",
    "    \"\"\"\n",
    "    # create recs dataset\n",
    "    df_recs = pd.DataFrame({'user_id': np.repeat(users, K), 'item_id': recs.ravel()})\n",
    "    \n",
    "    # calculate rank\n",
    "    df_recs['rank'] = df_recs.groupby('user_id').cumcount() + 1\n",
    "    \n",
    "    # join data\n",
    "    df_recs = df.merge(df_recs, how='left', left_on=['user_id', 'item_id'], right_on=['user_id', 'item_id'])\n",
    "    df_recs = df_recs.sort_values(by=['user_id', 'rank'])\n",
    "    \n",
    "    # take min rank and calculate reciprocal rank\n",
    "    df_recs[df_recs['rank'].notna()].groupby('user_id')[['rank']].min()\n",
    "    df_recs['1/rank'] = 1 / df_recs['rank']\n",
    "    \n",
    "    # fill nan with 0\n",
    "    df_recs = df_recs.fillna(0)\n",
    "    \n",
    "    # normalize\n",
    "    mrr = df_recs.groupby('user_id')['1/rank'].max().sum() / df_recs['user_id'].nunique()\n",
    "\n",
    "    return mrr"
   ]
  },
  {
   "cell_type": "code",
   "execution_count": 351,
   "id": "9ea4181a",
   "metadata": {},
   "outputs": [
    {
     "data": {
      "text/plain": [
       "0.06590666666666666"
      ]
     },
     "execution_count": 351,
     "metadata": {},
     "output_type": "execute_result"
    }
   ],
   "source": [
    "mrr_pandas(sample, users, recs, 5)"
   ]
  },
  {
   "cell_type": "code",
   "execution_count": 352,
   "id": "44ab7187",
   "metadata": {},
   "outputs": [],
   "source": [
    "def mrr_naive(target: np.array, users: np.array, recs: np.array, K: int) -> float:\n",
    "    \"\"\"\n",
    "    Function for calculate  Mean Reciprocal Rank with naive algorithm\n",
    "    :param df: your dataset values\n",
    "    :param users: array with users\n",
    "    :params recs: array with recomendations\n",
    "    :param K: number of recommendations\n",
    "    :return: Mean Reciprocal Rank value\n",
    "    \"\"\"\n",
    "\n",
    "    mrr_list = []\n",
    "\n",
    "    for i, user in enumerate(users):\n",
    "        \n",
    "        target_user = target[target[:, 0] == user][:, 1]\n",
    "        flag = False\n",
    "        \n",
    "        for j, rec in enumerate(recs[i]):\n",
    "            \n",
    "            if rec in target_user:\n",
    "                if flag:\n",
    "                    continue\n",
    "                else:\n",
    "                    flag = True\n",
    "                    mrr_list.append(1 / (j + 1))\n",
    "          \n",
    "    return np.sum(mrr_list) / len(users)"
   ]
  },
  {
   "cell_type": "code",
   "execution_count": 353,
   "id": "89f75c18",
   "metadata": {},
   "outputs": [
    {
     "data": {
      "text/plain": [
       "0.06590666666666667"
      ]
     },
     "execution_count": 353,
     "metadata": {},
     "output_type": "execute_result"
    }
   ],
   "source": [
    "mrr_naive(sample.values, users, recs, 5)"
   ]
  },
  {
   "cell_type": "code",
   "execution_count": 354,
   "id": "34787361",
   "metadata": {},
   "outputs": [],
   "source": [
    "@nb.njit(cache=True, parallel=True)\n",
    "def mrr_numba(target: np.array, users: np.array, recs: np.array, K: int) -> float:\n",
    "    \"\"\"\n",
    "    Function for calculate  Mean Reciprocal Rank with Numba tools\n",
    "    :param df: your dataset values\n",
    "    :param users: array with users\n",
    "    :params recs: array with recomendations\n",
    "    :param K: number of recommendations\n",
    "    :return: Mean Reciprocal Rank value\n",
    "    \"\"\"\n",
    "    mrr = np.zeros(len(users))\n",
    "\n",
    "    for i, user in enumerate(users):\n",
    "        target_user = target[target[:, 0] == user][:, 1]\n",
    "        flag = False\n",
    "        \n",
    "        for j, rec in enumerate(recs[i]):\n",
    "            if rec in target_user:\n",
    "                if flag:\n",
    "                    continue\n",
    "                else:\n",
    "                    flag = True\n",
    "                    mrr[i] = 1 / (j + 1)\n",
    "\n",
    "    return mrr.sum() / len(users)"
   ]
  },
  {
   "cell_type": "code",
   "execution_count": 355,
   "id": "a6d6b9f6",
   "metadata": {},
   "outputs": [
    {
     "data": {
      "text/plain": [
       "0.06590666666666671"
      ]
     },
     "execution_count": 355,
     "metadata": {},
     "output_type": "execute_result"
    }
   ],
   "source": [
    "mrr_numba(sample.values, users, recs, 5)"
   ]
  },
  {
   "cell_type": "markdown",
   "id": "60005d8b",
   "metadata": {},
   "source": [
    "# Graphics"
   ]
  },
  {
   "cell_type": "code",
   "execution_count": 345,
   "id": "e02571b3",
   "metadata": {},
   "outputs": [],
   "source": [
    "list_functions = {'naive': mrr_naive, 'numba': mrr_numba, 'pandas': mrr_pandas}\n",
    "list_users_count = [100, 1000, 10000, 100000]\n",
    "list_K = [10, 50, 100]"
   ]
  },
  {
   "cell_type": "code",
   "execution_count": 346,
   "id": "6f85fc50",
   "metadata": {},
   "outputs": [
    {
     "data": {
      "image/png": "[encoded data removed]",
      "text/plain": [
       "<Figure size 1440x720 with 1 Axes>"
      ]
     },
     "metadata": {
      "needs_background": "light"
     },
     "output_type": "display_data"
    }
   ],
   "source": [
    "plt.figure(figsize=(20, 10))\n",
    "\n",
    "for i, func in enumerate(list_functions):\n",
    "    for k in list_K:\n",
    "        time_list = []\n",
    "        \n",
    "        for n in list_users_count:\n",
    "            sample, users, recs = generate_subsample(interactions, n, k)\n",
    "            start = time.time()\n",
    "            \n",
    "            if list_functions[func] == mrr_pandas:\n",
    "                list_functions[func](sample, users, recs, k)\n",
    "            else:\n",
    "                list_functions[func](sample.values, users, recs, k)\n",
    "                \n",
    "            time_list.append(time.time() - start)\n",
    "            \n",
    "        plt.plot(list_users_count, time_list, label=[func, k])\n",
    "        plt.legend()\n",
    "        plt.xscale('log')"
   ]
  },
  {
   "cell_type": "code",
   "execution_count": null,
   "id": "74cd4835",
   "metadata": {},
   "outputs": [],
   "source": []
  }
 ],
 "metadata": {
  "kernelspec": {
   "display_name": "Python 3 (ipykernel)",
   "language": "python",
   "name": "python3"
  },
  "language_info": {
   "codemirror_mode": {
    "name": "ipython",
    "version": 3
   },
   "file_extension": ".py",
   "mimetype": "text/x-python",
   "name": "python",
   "nbconvert_exporter": "python",
   "pygments_lexer": "ipython3",
   "version": "3.9.12"
  },
  "toc": {
   "base_numbering": 1,
   "nav_menu": {},
   "number_sections": true,
   "sideBar": true,
   "skip_h1_title": false,
   "title_cell": "Table of Contents",
   "title_sidebar": "Contents",
   "toc_cell": false,
   "toc_position": {},
   "toc_section_display": true,
   "toc_window_display": false
  }
 },
 "nbformat": 4,
 "nbformat_minor": 5
}
